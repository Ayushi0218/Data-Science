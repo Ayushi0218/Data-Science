{
 "cells": [
  {
   "cell_type": "code",
   "execution_count": 2,
   "metadata": {},
   "outputs": [
    {
     "name": "stdout",
     "output_type": "stream",
     "text": [
      "{'English': 56, 'Hindi': 90, 'Maths': 43, 'Chemistry': 34, 'Evs': 56}\n"
     ]
    }
   ],
   "source": [
    "raju = [56,90,34,43,56]\n",
    "\n",
    "raju_dict = {\n",
    "    'English' : 56,\n",
    "    'Hindi' : 90,\n",
    "    'Maths' : 43,\n",
    "    'Chemistry' : 34,\n",
    "    'Evs' : 56\n",
    "}\n",
    "print(raju_dict)"
   ]
  },
  {
   "cell_type": "code",
   "execution_count": 6,
   "metadata": {},
   "outputs": [],
   "source": [
    "company = {\n",
    "    'emp001' : {\n",
    "        'name' : \"Amar Kumar\",\n",
    "        'designation' : 'Assistant III',\n",
    "        'salary' : 32000,\n",
    "    },\n",
    "    'emp002' : {\n",
    "        'name' : 'Ranu Singh',\n",
    "        'designation' : 'Staff Officer',\n",
    "        'salary' : 89000,\n",
    "    },\n",
    "    'total_emp' : 2,\n",
    "    'departments' : 'Account',\n",
    "    'vacancy': ['clerk','manager','assistant I']\n",
    "}"
   ]
  },
  {
   "cell_type": "code",
   "execution_count": 7,
   "metadata": {},
   "outputs": [
    {
     "name": "stdout",
     "output_type": "stream",
     "text": [
      "{'emp001': {'name': 'Amar Kumar', 'designation': 'Assistant III', 'salary': 32000}, 'emp002': {'name': 'Ranu Singh', 'designation': 'Staff Officer', 'salary': 89000}, 'total_emp': 2, 'departments': 'Account', 'vacancy': ['clerk', 'manager', 'assistant I'], 'name': 'Acme Inc'}\n"
     ]
    }
   ],
   "source": [
    "company['name'] = 'Acme Inc' #adding a key and value to dict\n",
    "print(company)"
   ]
  },
  {
   "cell_type": "code",
   "execution_count": 8,
   "metadata": {},
   "outputs": [],
   "source": [
    "company['total_emp'] = 3\n",
    "company['emp003'] = {\n",
    "    'name' : 'Ajay Verma',\n",
    "    'designation' : 'clerk',\n",
    "    'salary' : 45000\n",
    "}"
   ]
  },
  {
   "cell_type": "code",
   "execution_count": 9,
   "metadata": {},
   "outputs": [
    {
     "data": {
      "text/plain": [
       "{'emp001': {'name': 'Amar Kumar',\n",
       "  'designation': 'Assistant III',\n",
       "  'salary': 32000},\n",
       " 'emp002': {'name': 'Ranu Singh',\n",
       "  'designation': 'Staff Officer',\n",
       "  'salary': 89000},\n",
       " 'total_emp': 3,\n",
       " 'departments': 'Account',\n",
       " 'vacancy': ['clerk', 'manager', 'assistant I'],\n",
       " 'name': 'Acme Inc',\n",
       " 'emp003': {'name': 'Ajay Verma', 'designation': 'clerk', 'salary': 45000}}"
      ]
     },
     "execution_count": 9,
     "metadata": {},
     "output_type": "execute_result"
    }
   ],
   "source": [
    "company"
   ]
  },
  {
   "cell_type": "code",
   "execution_count": 10,
   "metadata": {},
   "outputs": [],
   "source": [
    "company.get('website')\n",
    "# compant['emp004']"
   ]
  },
  {
   "cell_type": "code",
   "execution_count": 12,
   "metadata": {},
   "outputs": [],
   "source": [
    "if 'website' in company:\n",
    "    print('website exists in dict')"
   ]
  },
  {
   "cell_type": "code",
   "execution_count": 13,
   "metadata": {},
   "outputs": [
    {
     "name": "stdout",
     "output_type": "stream",
     "text": [
      "dict_keys(['emp001', 'emp002', 'total_emp', 'departments', 'vacancy', 'name', 'emp003'])\n",
      "dict_values([{'name': 'Amar Kumar', 'designation': 'Assistant III', 'salary': 32000}, {'name': 'Ranu Singh', 'designation': 'Staff Officer', 'salary': 89000}, 3, 'Account', ['clerk', 'manager', 'assistant I'], 'Acme Inc', {'name': 'Ajay Verma', 'designation': 'clerk', 'salary': 45000}])\n"
     ]
    }
   ],
   "source": [
    "print(company.keys())\n",
    "print(company.values())"
   ]
  },
  {
   "cell_type": "code",
   "execution_count": 14,
   "metadata": {},
   "outputs": [
    {
     "name": "stdout",
     "output_type": "stream",
     "text": [
      "dict_items([('emp001', {'name': 'Amar Kumar', 'designation': 'Assistant III', 'salary': 32000}), ('emp002', {'name': 'Ranu Singh', 'designation': 'Staff Officer', 'salary': 89000}), ('total_emp', 3), ('departments', 'Account'), ('vacancy', ['clerk', 'manager', 'assistant I']), ('name', 'Acme Inc'), ('emp003', {'name': 'Ajay Verma', 'designation': 'clerk', 'salary': 45000})])\n"
     ]
    }
   ],
   "source": [
    "print(company.items())"
   ]
  },
  {
   "cell_type": "code",
   "execution_count": 19,
   "metadata": {},
   "outputs": [
    {
     "name": "stdout",
     "output_type": "stream",
     "text": [
      "English\n",
      "Hindi\n",
      "Maths\n",
      "Chemistry\n",
      "Evs\n",
      "56\n",
      "90\n",
      "34\n",
      "34\n",
      "56\n"
     ]
    }
   ],
   "source": [
    "for i in raju_dict:\n",
    "    print(i) #keys print hongi\n",
    "for j in raju_dict:   \n",
    "    print(raju_dict[j]) #values print hongi"
   ]
  },
  {
   "cell_type": "code",
   "execution_count": 20,
   "metadata": {},
   "outputs": [
    {
     "name": "stdout",
     "output_type": "stream",
     "text": [
      "emp001 {'name': 'Amar Kumar', 'designation': 'Assistant III', 'salary': 32000}\n",
      "emp002 {'name': 'Ranu Singh', 'designation': 'Staff Officer', 'salary': 89000}\n",
      "total_emp 3\n",
      "departments Account\n",
      "vacancy ['clerk', 'manager', 'assistant I']\n",
      "name Acme Inc\n",
      "emp003 {'name': 'Ajay Verma', 'designation': 'clerk', 'salary': 45000}\n"
     ]
    }
   ],
   "source": [
    "for k,v in company.items():\n",
    "    print(k,v)"
   ]
  },
  {
   "cell_type": "code",
   "execution_count": 21,
   "metadata": {},
   "outputs": [
    {
     "name": "stdout",
     "output_type": "stream",
     "text": [
      "emp001\n",
      "---> name Amar Kumar\n",
      "---> designation Assistant III\n",
      "---> salary 32000\n",
      "emp002\n",
      "---> name Ranu Singh\n",
      "---> designation Staff Officer\n",
      "---> salary 89000\n",
      "total_emp 3\n",
      "departments Account\n",
      "vacancy ['clerk', 'manager', 'assistant I']\n",
      "name Acme Inc\n",
      "emp003\n",
      "---> name Ajay Verma\n",
      "---> designation clerk\n",
      "---> salary 45000\n"
     ]
    }
   ],
   "source": [
    "for k,v in company.items():\n",
    "    if isinstance(v,dict):\n",
    "        print(k)\n",
    "        for key,value in v.items():\n",
    "            print(\"--->\",key,value)\n",
    "    else:\n",
    "        print(k,v)"
   ]
  },
  {
   "cell_type": "markdown",
   "metadata": {},
   "source": [
    "WAP TO CREATE A DICTIONARY WHICH TAKES USER INPUT AND STORES THE NAME OF ITEM AND IT'S PRICE.\n",
    "The user can input unlimited inputs."
   ]
  },
  {
   "cell_type": "code",
   "execution_count": null,
   "metadata": {},
   "outputs": [],
   "source": [
    "dict = "
   ]
  }
 ],
 "metadata": {
  "kernelspec": {
   "display_name": "base",
   "language": "python",
   "name": "python3"
  },
  "language_info": {
   "codemirror_mode": {
    "name": "ipython",
    "version": 3
   },
   "file_extension": ".py",
   "mimetype": "text/x-python",
   "name": "python",
   "nbconvert_exporter": "python",
   "pygments_lexer": "ipython3",
   "version": "3.10.10"
  },
  "orig_nbformat": 4
 },
 "nbformat": 4,
 "nbformat_minor": 2
}
