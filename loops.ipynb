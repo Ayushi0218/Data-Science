{
 "cells": [
  {
   "cell_type": "markdown",
   "metadata": {},
   "source": [
    "FOR\n",
    "for temp_var in iterable:\n",
    "    statement 1\n",
    "    ...\n",
    "\n",
    "    statement n\n",
    "...\n",
    "iterables are string,list,tuple,set,dict,generators, etc"
   ]
  },
  {
   "cell_type": "code",
   "execution_count": 6,
   "metadata": {},
   "outputs": [
    {
     "name": "stdout",
     "output_type": "stream",
     "text": [
      "1\n",
      "23\n",
      "5\n",
      "6\n",
      "3\n",
      "6\n",
      "21\n",
      "6\n",
      "6\n"
     ]
    }
   ],
   "source": [
    "nums = [1,23,5,6,3,6,21,6,6]\n",
    "for i in nums:\n",
    "    print(i)"
   ]
  },
  {
   "cell_type": "markdown",
   "metadata": {},
   "source": [
    "- ENUMERATE \n",
    "- ZIP"
   ]
  },
  {
   "cell_type": "code",
   "execution_count": 7,
   "metadata": {},
   "outputs": [
    {
     "name": "stdout",
     "output_type": "stream",
     "text": [
      "(0, 'John')\n",
      "(1, 'Jane')\n",
      "(2, 'Jack')\n",
      "(3, 'Jill')\n"
     ]
    }
   ],
   "source": [
    "names = ['John', 'Jane', 'Jack', 'Jill']\n",
    "for name in enumerate(names): #index bhi print krega\n",
    "    print(name)"
   ]
  },
  {
   "cell_type": "code",
   "execution_count": 8,
   "metadata": {},
   "outputs": [
    {
     "name": "stdout",
     "output_type": "stream",
     "text": [
      "John 0\n",
      "Jane 1\n",
      "Jack 2\n",
      "Jill 3\n"
     ]
    }
   ],
   "source": [
    "for idx,  name in enumerate(names): #index bhi print krega\n",
    "    print(name, idx)"
   ]
  },
  {
   "cell_type": "code",
   "execution_count": 9,
   "metadata": {},
   "outputs": [
    {
     "name": "stdout",
     "output_type": "stream",
     "text": [
      "2\n",
      "9\n",
      "30\n",
      "56\n",
      "90\n"
     ]
    }
   ],
   "source": [
    "x = [2,3,6,8,10]\n",
    "y = [1,3,5,7,9]\n",
    "#ek se zada iterables ko iterate krana\n",
    "for i,j in zip(x,y):\n",
    "    print(i*j)\n",
    "    "
   ]
  },
  {
   "cell_type": "code",
   "execution_count": 12,
   "metadata": {},
   "outputs": [
    {
     "name": "stdout",
     "output_type": "stream",
     "text": [
      "5\n",
      "15\n",
      "39\n",
      "68\n",
      "105\n"
     ]
    }
   ],
   "source": [
    "z = [3,6,9,12,15]\n",
    "for i,j,k in zip(x,y,z):\n",
    "    print(i*j+k)"
   ]
  },
  {
   "cell_type": "code",
   "execution_count": 13,
   "metadata": {},
   "outputs": [
    {
     "name": "stdout",
     "output_type": "stream",
     "text": [
      "Interstellar        8.6⭐\n",
      "The Martian         8.0⭐\n",
      "Gravity             7.7⭐\n",
      "Apollo 13           7.6⭐\n"
     ]
    }
   ],
   "source": [
    "movies = ['Interstellar', 'The Martian', 'Gravity', 'Apollo 13']\n",
    "rating = [8.6,8.0,7.7,7.6]\n",
    "for name,star in zip(movies, rating):\n",
    "    print(f'{name:20}{star}⭐')"
   ]
  },
  {
   "cell_type": "code",
   "execution_count": 2,
   "metadata": {},
   "outputs": [
    {
     "name": "stdout",
     "output_type": "stream",
     "text": [
      "1 2 2 3 2 2 1 2 2 3 4 5 1 2 4 5 "
     ]
    }
   ],
   "source": [
    "#break and continue sirf loop mei use honge\n",
    "x = [1,2,2,3,2,2,1,2,2,3,4,5,1,2,4,5,]\n",
    "for i in x:\n",
    "    if i == 0:\n",
    "        break\n",
    "    print(i,end =' ')"
   ]
  },
  {
   "cell_type": "code",
   "execution_count": 3,
   "metadata": {},
   "outputs": [
    {
     "name": "stdout",
     "output_type": "stream",
     "text": [
      "1 2 2 3 2 "
     ]
    }
   ],
   "source": [
    "x = [1,2,2,3,2,0,2,1,2,2,3,4,5,1,2,4,5]\n",
    "for i in x:\n",
    "    if i == 0:\n",
    "        break\n",
    "    print(i,end =' ')"
   ]
  },
  {
   "cell_type": "code",
   "execution_count": 4,
   "metadata": {},
   "outputs": [
    {
     "name": "stdout",
     "output_type": "stream",
     "text": [
      "1 2 2 3 2 "
     ]
    }
   ],
   "source": [
    "x = [1,2,2,3,2,0,2,1,2,2,3,4,5,1,2,4,5]\n",
    "for i in x:\n",
    "    if i == 0:\n",
    "        break\n",
    "    print(i,end =' ')\n",
    "else: #for ka else hai\n",
    "    print(\"Loop Completed\")\n",
    "#pre maturely break ho jaa rha hai"
   ]
  },
  {
   "cell_type": "code",
   "execution_count": 5,
   "metadata": {},
   "outputs": [
    {
     "name": "stdout",
     "output_type": "stream",
     "text": [
      "1 2 2 3 2 2 1 2 2 3 4 5 1 2 4 5 Loop Completed\n"
     ]
    }
   ],
   "source": [
    "x = [1,2,2,3,2,2,1,2,2,3,4,5,1,2,4,5]\n",
    "for i in x:\n",
    "    if i == 0:\n",
    "        break\n",
    "    print(i,end =' ')\n",
    "else: #for ka else hai\n",
    "    print(\"Loop Completed\")\n"
   ]
  },
  {
   "cell_type": "code",
   "execution_count": 6,
   "metadata": {},
   "outputs": [
    {
     "name": "stdout",
     "output_type": "stream",
     "text": [
      "Prime\n"
     ]
    }
   ],
   "source": [
    "num = 7\n",
    "for i in range(2,num):\n",
    "    if num%i == 0:\n",
    "        print(\"Not Prime\")\n",
    "        break\n",
    "else:\n",
    "    print('Prime')"
   ]
  },
  {
   "cell_type": "code",
   "execution_count": 7,
   "metadata": {},
   "outputs": [
    {
     "name": "stdout",
     "output_type": "stream",
     "text": [
      "Not Prime\n"
     ]
    }
   ],
   "source": [
    "num = 8\n",
    "for i in range(2,num):\n",
    "    if num%i == 0:\n",
    "        print(\"Not Prime\")\n",
    "        break\n",
    "else:\n",
    "    print('Prime')"
   ]
  },
  {
   "cell_type": "code",
   "execution_count": 8,
   "metadata": {},
   "outputs": [
    {
     "name": "stdout",
     "output_type": "stream",
     "text": [
      "Not Prime\n"
     ]
    }
   ],
   "source": [
    "num = int(input('Enter a number'))\n",
    "for i in range(2,num):\n",
    "    if num%i == 0:\n",
    "        print(\"Not Prime\")\n",
    "        break\n",
    "else:\n",
    "    print('Prime')"
   ]
  },
  {
   "cell_type": "code",
   "execution_count": 9,
   "metadata": {},
   "outputs": [
    {
     "name": "stdout",
     "output_type": "stream",
     "text": [
      "1 2 3 5 1 2 23 3 1 2 2 3 3 "
     ]
    }
   ],
   "source": [
    "x = [1,2,3,None,5,1,None,2,23,None,3,1,2,2,3,None,3]\n",
    "for num in x:\n",
    "    if num is None:\n",
    "        continue\n",
    "    print(num,end=' ')"
   ]
  },
  {
   "cell_type": "code",
   "execution_count": 1,
   "metadata": {},
   "outputs": [
    {
     "name": "stdout",
     "output_type": "stream",
     "text": [
      "1 2 3 5 1 2 23 3 1 2 2 3 3 "
     ]
    }
   ],
   "source": [
    "x = [1,2,3,None,5,1,None,2,23,None,3,1,2,2,3,None,3]\n",
    "for num in x:\n",
    "    if num is not None:\n",
    "        print(num,end=' ')"
   ]
  },
  {
   "cell_type": "markdown",
   "metadata": {},
   "source": [
    "#sum ek function h to uske naam se variable nhi banega"
   ]
  },
  {
   "cell_type": "code",
   "execution_count": 21,
   "metadata": {},
   "outputs": [
    {
     "name": "stdout",
     "output_type": "stream",
     "text": [
      "43\n"
     ]
    }
   ],
   "source": [
    "S=0\n",
    "for num in x:\n",
    "    if num is not None and (num%2) != 0: #(num%2==1) ye bhi likh skte h odd k liye\n",
    "        S= S + num\n",
    "print(S)"
   ]
  },
  {
   "cell_type": "code",
   "execution_count": 22,
   "metadata": {},
   "outputs": [
    {
     "ename": "TypeError",
     "evalue": "unsupported operand type(s) for %: 'NoneType' and 'int'",
     "output_type": "error",
     "traceback": [
      "\u001b[1;31m---------------------------------------------------------------------------\u001b[0m",
      "\u001b[1;31mTypeError\u001b[0m                                 Traceback (most recent call last)",
      "Cell \u001b[1;32mIn[22], line 3\u001b[0m\n\u001b[0;32m      1\u001b[0m S\u001b[39m=\u001b[39m\u001b[39m0\u001b[39m\n\u001b[0;32m      2\u001b[0m \u001b[39mfor\u001b[39;00m num \u001b[39min\u001b[39;00m x:\n\u001b[1;32m----> 3\u001b[0m     \u001b[39mif\u001b[39;00m (num\u001b[39m%\u001b[39;49m\u001b[39m2\u001b[39;49m) \u001b[39m!=\u001b[39m \u001b[39m0\u001b[39m \u001b[39mand\u001b[39;00m num \u001b[39mis\u001b[39;00m \u001b[39mnot\u001b[39;00m \u001b[39mNone\u001b[39;00m:\n\u001b[0;32m      4\u001b[0m         S\u001b[39m=\u001b[39m S \u001b[39m+\u001b[39m num\n\u001b[0;32m      5\u001b[0m \u001b[39mprint\u001b[39m(S)\n",
      "\u001b[1;31mTypeError\u001b[0m: unsupported operand type(s) for %: 'NoneType' and 'int'"
     ]
    }
   ],
   "source": [
    "S=0\n",
    "for num in x:\n",
    "    if (num%2) != 0 and num is not None: #none %2 h isiliye error de rha h\n",
    "        S= S + num\n",
    "print(S)"
   ]
  },
  {
   "cell_type": "markdown",
   "metadata": {},
   "source": [
    "WHILE LOOP\n",
    "infinite loop #for finite k liye hi hota hai"
   ]
  },
  {
   "cell_type": "code",
   "execution_count": 23,
   "metadata": {},
   "outputs": [
    {
     "ename": "KeyboardInterrupt",
     "evalue": "",
     "output_type": "error",
     "traceback": [
      "\u001b[1;31m---------------------------------------------------------------------------\u001b[0m",
      "\u001b[1;31mKeyboardInterrupt\u001b[0m                         Traceback (most recent call last)",
      "Cell \u001b[1;32mIn[23], line 1\u001b[0m\n\u001b[1;32m----> 1\u001b[0m \u001b[39mwhile\u001b[39;00m \u001b[39mTrue\u001b[39;00m:\n\u001b[0;32m      2\u001b[0m     \u001b[39mpass\u001b[39;00m\n",
      "\u001b[1;31mKeyboardInterrupt\u001b[0m: "
     ]
    }
   ],
   "source": [
    "while True:\n",
    "    pass #keyword h"
   ]
  },
  {
   "cell_type": "code",
   "execution_count": 24,
   "metadata": {},
   "outputs": [
    {
     "name": "stdout",
     "output_type": "stream",
     "text": [
      "Wrong Username\n",
      "Wrong Username\n",
      "Welcome Admin\n"
     ]
    }
   ],
   "source": [
    "while True:\n",
    "    user = input('Enter Username: ')\n",
    "    password = input('Enter Password: ')\n",
    "    if user == \"Admin\":\n",
    "        if password == \"Secret\":\n",
    "            print('Welcome Admin')\n",
    "            break\n",
    "        else:\n",
    "            print('Wrong Password')\n",
    "    else:\n",
    "        print('Wrong Username')"
   ]
  }
 ],
 "metadata": {
  "kernelspec": {
   "display_name": "base",
   "language": "python",
   "name": "python3"
  },
  "language_info": {
   "codemirror_mode": {
    "name": "ipython",
    "version": 3
   },
   "file_extension": ".py",
   "mimetype": "text/x-python",
   "name": "python",
   "nbconvert_exporter": "python",
   "pygments_lexer": "ipython3",
   "version": "3.10.10"
  },
  "orig_nbformat": 4
 },
 "nbformat": 4,
 "nbformat_minor": 2
}
