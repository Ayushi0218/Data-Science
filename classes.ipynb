{
 "cells": [
  {
   "cell_type": "code",
   "execution_count": 2,
   "metadata": {},
   "outputs": [],
   "source": [
    "class Cat:\n",
    "    pass #skip"
   ]
  },
  {
   "cell_type": "code",
   "execution_count": 6,
   "metadata": {},
   "outputs": [],
   "source": [
    "class Cat:\n",
    "    def __init__(self):\n",
    "        print(\"The class constructor\")"
   ]
  },
  {
   "cell_type": "code",
   "execution_count": 10,
   "metadata": {},
   "outputs": [
    {
     "name": "stdout",
     "output_type": "stream",
     "text": [
      "The class constructor\n",
      "<__main__.Cat object at 0x0000022EA7F83E50>\n",
      "<class '__main__.Cat'>\n"
     ]
    }
   ],
   "source": [
    "c1 = Cat()\n",
    "print(c1)\n",
    "print(type(c1))"
   ]
  },
  {
   "cell_type": "code",
   "execution_count": 18,
   "metadata": {},
   "outputs": [],
   "source": [
    "class Student:\n",
    "    def __init__(self, name, klass, rollno, stream=\"bio\"): #self instance method h, vo nhi likha hoga to self.name kaam nhi krenge\n",
    "        self.name = name\n",
    "        self.klass = klass\n",
    "        self.rollno = rollno\n",
    "        self.stream = stream\n",
    "        self.marks = {} #property of class\n",
    "\n",
    "    def think(self, object):\n",
    "        print(f\"{self.name} is thinking about {object}\")\n",
    "\n",
    "    def setmarks(self, subject, value):\n",
    "        self.marks[subject] = value\n"
   ]
  },
  {
   "cell_type": "code",
   "execution_count": 19,
   "metadata": {},
   "outputs": [],
   "source": [
    "aditi = Student(\"Aditi\", 12, '22', \"Math\")\n",
    "anmol = Student(\"Anmol\", 11, '23')\n",
    "\n",
    "anmol.setmarks('Hindi', 90)\n",
    "anmol.setmarks('English',95)\n",
    "anmol.setmarks('Math',55)\n",
    "aditi.setmarks('Hindi', 95)\n",
    "aditi.setmarks('Chemistry', 99)\n",
    "aditi.setmarks('Maths', 100)"
   ]
  },
  {
   "cell_type": "code",
   "execution_count": 20,
   "metadata": {},
   "outputs": [
    {
     "name": "stdout",
     "output_type": "stream",
     "text": [
      "{'Hindi': 95, 'Chemistry': 99, 'Maths': 100}\n",
      "{'Hindi': 90, 'English': 95, 'Math': 55}\n"
     ]
    }
   ],
   "source": [
    "print(aditi.marks)\n",
    "print(anmol.marks)"
   ]
  },
  {
   "cell_type": "code",
   "execution_count": 21,
   "metadata": {},
   "outputs": [
    {
     "name": "stdout",
     "output_type": "stream",
     "text": [
      "Aditi is thinking about Ayushi is my best friend!\n"
     ]
    }
   ],
   "source": [
    "aditi.think(\"Ayushi is my best friend!\")"
   ]
  },
  {
   "cell_type": "markdown",
   "metadata": {},
   "source": [
    "**INHERITANCE**"
   ]
  },
  {
   "cell_type": "code",
   "execution_count": 32,
   "metadata": {},
   "outputs": [],
   "source": [
    "class SuperList(list):\n",
    "    def all_index(self,search):\n",
    "        idxs = []\n",
    "        start_idx = 0\n",
    "        for i in range(self.count(search)):\n",
    "            pos = self.index(search, start_idx)\n",
    "            idxs.append(pos)\n",
    "            start_idx = pos + 1\n",
    "        return idxs"
   ]
  },
  {
   "cell_type": "code",
   "execution_count": 33,
   "metadata": {},
   "outputs": [
    {
     "name": "stdout",
     "output_type": "stream",
     "text": [
      "[1, 2, 3, 4, 5, 6, 2, 5, 4, 5, 5]\n",
      "[1, 2, 3, 4, 5, 6, 2, 5, 4, 5, 5, 21]\n"
     ]
    }
   ],
   "source": [
    "x = SuperList([1,2,3,4,5,6,2,5,4,5,5])\n",
    "print(x)\n",
    "x.append(21)\n",
    "print(x)"
   ]
  },
  {
   "cell_type": "code",
   "execution_count": 34,
   "metadata": {},
   "outputs": [
    {
     "data": {
      "text/plain": [
       "[4, 7, 9, 10]"
      ]
     },
     "execution_count": 34,
     "metadata": {},
     "output_type": "execute_result"
    }
   ],
   "source": [
    "x.all_index(5)"
   ]
  },
  {
   "cell_type": "code",
   "execution_count": null,
   "metadata": {},
   "outputs": [],
   "source": []
  }
 ],
 "metadata": {
  "kernelspec": {
   "display_name": "base",
   "language": "python",
   "name": "python3"
  },
  "language_info": {
   "codemirror_mode": {
    "name": "ipython",
    "version": 3
   },
   "file_extension": ".py",
   "mimetype": "text/x-python",
   "name": "python",
   "nbconvert_exporter": "python",
   "pygments_lexer": "ipython3",
   "version": "3.10.10"
  },
  "orig_nbformat": 4
 },
 "nbformat": 4,
 "nbformat_minor": 2
}
