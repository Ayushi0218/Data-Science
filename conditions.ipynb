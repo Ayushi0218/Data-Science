{
 "cells": [
  {
   "cell_type": "markdown",
   "metadata": {},
   "source": [
    "Conditions\n",
    "- If \n",
    "- If else\n",
    "- If elif else\n",
    "- match case "
   ]
  },
  {
   "cell_type": "code",
   "execution_count": 2,
   "metadata": {},
   "outputs": [
    {
     "name": "stdout",
     "output_type": "stream",
     "text": [
      "x is greater than y\n"
     ]
    }
   ],
   "source": [
    "x = 10\n",
    "y = 3\n",
    "if x > y:\n",
    "    print(\"x is greater than y\")"
   ]
  },
  {
   "cell_type": "code",
   "execution_count": 4,
   "metadata": {},
   "outputs": [
    {
     "name": "stdout",
     "output_type": "stream",
     "text": [
      "x is greater than y and x is greater than 8\n",
      "multiple conditions\n"
     ]
    }
   ],
   "source": [
    "if x > y and x > 8:\n",
    "    print(\"x is greater than y and x is greater than 8\")\n",
    "    print(\"multiple conditions\")"
   ]
  },
  {
   "cell_type": "markdown",
   "metadata": {},
   "source": [
    "True values\n",
    "- true\n",
    "- non-zero numbers\n",
    "- non empty strings\n",
    "\n",
    "False values\n",
    "- false\n",
    "- 0\n",
    "- 0.0\n",
    "- None\n",
    "- empty strings"
   ]
  },
  {
   "cell_type": "code",
   "execution_count": 5,
   "metadata": {},
   "outputs": [
    {
     "name": "stdout",
     "output_type": "stream",
     "text": [
      "you entered Ayushi\n"
     ]
    }
   ],
   "source": [
    "name = input('Enter a name')\n",
    "if name:\n",
    "    print(f'you entered {name}')\n",
    "else:\n",
    "    print(f'you did not enter a name')"
   ]
  },
  {
   "cell_type": "code",
   "execution_count": 6,
   "metadata": {},
   "outputs": [
    {
     "name": "stdout",
     "output_type": "stream",
     "text": [
      "odd\n"
     ]
    }
   ],
   "source": [
    "x = int(input('Enter a number'))\n",
    "if x % 2 == 0:\n",
    "    print('even')\n",
    "else:\n",
    "    print('odd')"
   ]
  },
  {
   "cell_type": "code",
   "execution_count": 8,
   "metadata": {},
   "outputs": [
    {
     "name": "stdout",
     "output_type": "stream",
     "text": [
      "Welcome admin\n"
     ]
    }
   ],
   "source": [
    "username = input('enter username')\n",
    "password = input('enter password')\n",
    "if username == 'ayushi':\n",
    "    if password == '123ayushi':\n",
    "        print('Welcome admin')\n",
    "    else:\n",
    "        print('Invalid password')\n",
    "else:\n",
    "    print('Invalid username')"
   ]
  },
  {
   "cell_type": "code",
   "execution_count": 9,
   "metadata": {},
   "outputs": [
    {
     "name": "stdout",
     "output_type": "stream",
     "text": [
      "Holiday day\n"
     ]
    }
   ],
   "source": [
    "day = input('Enter day')\n",
    "if day == 'monday':\n",
    "    print('monday')\n",
    "elif day == 'tuesday':\n",
    "    print('tuesday')\n",
    "elif day == 'wednesday':\n",
    "    print('wednesday')\n",
    "else:\n",
    "    print('Holiday day')"
   ]
  },
  {
   "cell_type": "code",
   "execution_count": 11,
   "metadata": {},
   "outputs": [
    {
     "name": "stdout",
     "output_type": "stream",
     "text": [
      "Time to work\n"
     ]
    }
   ],
   "source": [
    "day = input('enter a day')\n",
    "match day: #case sensitive code hai\n",
    "    case 'monday':\n",
    "        print('Time to work')\n",
    "    case 'tuesday':\n",
    "        print('Time to work')\n",
    "    case 'wednesday':\n",
    "        print('Time to work')\n",
    "    case 'thursday':\n",
    "        print('Time to work')\n",
    "    case 'friday'| 'satuday': #pipe symbol yaha use kr skte h if mei nhi\n",
    "        print('Time to work')\n",
    "    case 'sunday':\n",
    "        print('Party')"
   ]
  },
  {
   "cell_type": "code",
   "execution_count": 15,
   "metadata": {},
   "outputs": [
    {
     "name": "stdout",
     "output_type": "stream",
     "text": [
      "Invalid input\n"
     ]
    }
   ],
   "source": [
    "#birth monbth k acc zodiac sign\n",
    "n = input('Enter your birth month')\n",
    "match n:\n",
    "    case 'January':\n",
    "        print('Aquarius')\n",
    "    case 'February':\n",
    "        print('Pisces')\n",
    "    case 'March':\n",
    "        print('Aries')\n",
    "    case 'April':\n",
    "        print('Tauras')\n",
    "    case 'May':\n",
    "        print('Gemini')\n",
    "    case 'June':\n",
    "        print('Cancer')\n",
    "    case 'July':\n",
    "        print('Leo')\n",
    "    case 'August':\n",
    "        print('Virgo')\n",
    "    case 'September':\n",
    "        print('Libra')\n",
    "    case 'October':\n",
    "        print('Scorpio')\n",
    "    case 'November':\n",
    "        print('Sagittarius')\n",
    "    case 'December':\n",
    "        print('Capricorn')\n",
    "    case _: #default case\n",
    "        print('Invalid input')"
   ]
  },
  {
   "cell_type": "code",
   "execution_count": null,
   "metadata": {},
   "outputs": [],
   "source": []
  }
 ],
 "metadata": {
  "kernelspec": {
   "display_name": "base",
   "language": "python",
   "name": "python3"
  },
  "language_info": {
   "codemirror_mode": {
    "name": "ipython",
    "version": 3
   },
   "file_extension": ".py",
   "mimetype": "text/x-python",
   "name": "python",
   "nbconvert_exporter": "python",
   "pygments_lexer": "ipython3",
   "version": "3.10.10"
  },
  "orig_nbformat": 4
 },
 "nbformat": 4,
 "nbformat_minor": 2
}
