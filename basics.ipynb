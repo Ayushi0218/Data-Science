{
 "cells": [
  {
   "cell_type": "code",
   "execution_count": 1,
   "metadata": {},
   "outputs": [],
   "source": [
    "name = 'Ayushi Raj Singh'\n",
    "x=10\n",
    "y=3\n",
    "z=3.14\n",
    "del name\n",
    "name = 'ayushi raj singh'"
   ]
  },
  {
   "attachments": {},
   "cell_type": "markdown",
   "metadata": {},
   "source": [
    "## OPERATORS\n",
    "- ARITHMETIC OPERATORS\n",
    "- ASSIGNMENT OPERATORS\n",
    "- COMPARISON OPERATORS\n",
    "- LOGICAL OPERATORS\n",
    "- IDENTITY OPERATORS\n",
    "- MEMBERSHIP OPERATORS"
   ]
  },
  {
   "cell_type": "code",
   "execution_count": 2,
   "metadata": {},
   "outputs": [
    {
     "name": "stdout",
     "output_type": "stream",
     "text": [
      "13\n",
      "7\n",
      "30\n",
      "3.3333333333333335\n",
      "3\n",
      "1\n",
      "1000\n"
     ]
    }
   ],
   "source": [
    "print(x+y)\n",
    "print(x-y)\n",
    "print(x*y)\n",
    "print(x/y) #float division\n",
    "print(x//y) #integer division\n",
    "print(x%y) #remainder\n",
    "print(x**y) #power(exponentation)"
   ]
  },
  {
   "cell_type": "code",
   "execution_count": 3,
   "metadata": {},
   "outputs": [
    {
     "name": "stdout",
     "output_type": "stream",
     "text": [
      "5.2\n"
     ]
    }
   ],
   "source": [
    "#assignment operator\n",
    "a = x+y \n",
    "a+= 1\n",
    "a -= 1\n",
    "a*= 2\n",
    "a /= 5 \n",
    "print(a)"
   ]
  },
  {
   "cell_type": "code",
   "execution_count": 4,
   "metadata": {},
   "outputs": [
    {
     "name": "stdout",
     "output_type": "stream",
     "text": [
      "True\n",
      "False\n",
      "True\n",
      "False\n",
      "False\n",
      "True\n"
     ]
    }
   ],
   "source": [
    "#comparison operator\n",
    "print ( x > y )\n",
    "print ( x < y )\n",
    "print ( x >= y )\n",
    "print ( x <= y )\n",
    "print ( x == y )\n",
    "print ( x!= y )\n"
   ]
  },
  {
   "cell_type": "code",
   "execution_count": 5,
   "metadata": {},
   "outputs": [
    {
     "data": {
      "text/plain": [
       "False"
      ]
     },
     "execution_count": 5,
     "metadata": {},
     "output_type": "execute_result"
    }
   ],
   "source": [
    "#logical\n",
    "#and,or,not\n",
    "x < y and y < 10"
   ]
  },
  {
   "cell_type": "code",
   "execution_count": 6,
   "metadata": {},
   "outputs": [
    {
     "data": {
      "text/plain": [
       "False"
      ]
     },
     "execution_count": 6,
     "metadata": {},
     "output_type": "execute_result"
    }
   ],
   "source": [
    "not x > y"
   ]
  },
  {
   "cell_type": "code",
   "execution_count": 8,
   "metadata": {},
   "outputs": [
    {
     "name": "stdout",
     "output_type": "stream",
     "text": [
      "True\n",
      "False\n",
      "False\n"
     ]
    }
   ],
   "source": [
    "#membership operator\n",
    "#to check the prescence \n",
    "#searching and looping\n",
    "fruits = ['Apple', 'Banana', 'Cherry']\n",
    "print('Apple' in fruits)\n",
    "print('apple' in fruits) # case sensitive hai language isiliye result false aayega\n",
    "print('pomogranate' in fruits)"
   ]
  },
  {
   "cell_type": "code",
   "execution_count": 10,
   "metadata": {},
   "outputs": [
    {
     "data": {
      "text/plain": [
       "False"
      ]
     },
     "execution_count": 10,
     "metadata": {},
     "output_type": "execute_result"
    }
   ],
   "source": [
    "#identity operator\n",
    "f = ['Apple', 'Banana', 'Cherry']\n",
    "fruits == f # value check kara rhe\n",
    "fruits is f #reference equality (memory address)"
   ]
  },
  {
   "cell_type": "code",
   "execution_count": 11,
   "metadata": {},
   "outputs": [
    {
     "name": "stdout",
     "output_type": "stream",
     "text": [
      "True\n",
      "True\n"
     ]
    }
   ],
   "source": [
    "#don't check is operator with integers\n",
    "x =10\n",
    "y = 10\n",
    "print(x==y)\n",
    "print(x is y)"
   ]
  },
  {
   "cell_type": "markdown",
   "metadata": {},
   "source": [
    "I/O\n"
   ]
  },
  {
   "cell_type": "code",
   "execution_count": 15,
   "metadata": {},
   "outputs": [
    {
     "name": "stdout",
     "output_type": "stream",
     "text": [
      "Ayushi raj Singh Lucknow 21\n"
     ]
    }
   ],
   "source": [
    "name = input('enter your name')\n",
    "city = input('enter your city')\n",
    "age = input('enter your age')\n",
    "print(name,city,age)"
   ]
  },
  {
   "cell_type": "code",
   "execution_count": 20,
   "metadata": {},
   "outputs": [
    {
     "name": "stdout",
     "output_type": "stream",
     "text": [
      "<class 'int'>\n",
      "10.0 <class 'float'>\n",
      "10.0 <class 'str'>\n",
      "True <class 'bool'>\n",
      "True <class 'str'>\n"
     ]
    }
   ],
   "source": [
    "#to check data type\n",
    "x= 10\n",
    "print(type(x))\n",
    "#convert to float\n",
    "x = float (x)\n",
    "print(x, type(x))\n",
    "x = str(x)\n",
    "print(x,type(x))\n",
    "x = bool(x)\n",
    "print(x, type(x))\n",
    "x = str(x)\n",
    "print(x,type(x))\n",
    "#x= int(x) ye error dega"
   ]
  },
  {
   "cell_type": "code",
   "execution_count": 21,
   "metadata": {},
   "outputs": [
    {
     "name": "stdout",
     "output_type": "stream",
     "text": [
      "19\n"
     ]
    }
   ],
   "source": [
    "x = int(input('enter a number for A:'))\n",
    "y = int(input('enter a number for B:'))\n",
    "print(x+y)"
   ]
  },
  {
   "cell_type": "code",
   "execution_count": 28,
   "metadata": {},
   "outputs": [
    {
     "name": "stdout",
     "output_type": "stream",
     "text": [
      "Ayushi raj Singh 21 Lucknow\n",
      "Name: Ayushi raj Singh Age: 21 City: Lucknow\n",
      "Ayushi raj Singh 21 Lucknow\n",
      "Name: Ayushi raj Singh \n",
      " Age: 21 \n",
      " City: Lucknow\n",
      "Ayushi raj Singh,21,Lucknow\n"
     ]
    }
   ],
   "source": [
    "print(name, age ,city)\n",
    "print('Name:', name,'Age:', age, 'City:',city) #both static and dynamic data\n",
    "print(name, age ,city)\n",
    "print('Name:', name,'\\n','Age:', age,'\\n','City:',city) #line change\n",
    "print(name, age ,city, sep=',')"
   ]
  },
  {
   "cell_type": "code",
   "execution_count": 30,
   "metadata": {},
   "outputs": [
    {
     "name": "stdout",
     "output_type": "stream",
     "text": [
      "17\n",
      "2\n"
     ]
    }
   ],
   "source": [
    "print(x) #by default line change\n",
    "print(y)"
   ]
  },
  {
   "cell_type": "code",
   "execution_count": 31,
   "metadata": {},
   "outputs": [
    {
     "name": "stdout",
     "output_type": "stream",
     "text": [
      "17 2\n"
     ]
    }
   ],
   "source": [
    "print(x, end=' ') #loops mei use krenge\n",
    "print(y)"
   ]
  },
  {
   "cell_type": "code",
   "execution_count": 37,
   "metadata": {},
   "outputs": [
    {
     "data": {
      "text/plain": [
       "'I Live in city'"
      ]
     },
     "execution_count": 37,
     "metadata": {},
     "output_type": "execute_result"
    }
   ],
   "source": [
    "'I Live in city'\n",
    "'I Live in {city}'\n",
    "f'I Live in {city}'\n",
    "f'I Live in city'"
   ]
  },
  {
   "cell_type": "code",
   "execution_count": 38,
   "metadata": {},
   "outputs": [
    {
     "data": {
      "text/plain": [
       "'I Live in Lucknow'"
      ]
     },
     "execution_count": 38,
     "metadata": {},
     "output_type": "execute_result"
    }
   ],
   "source": [
    "f'I Live in {city}'"
   ]
  },
  {
   "cell_type": "code",
   "execution_count": 40,
   "metadata": {},
   "outputs": [
    {
     "name": "stdout",
     "output_type": "stream",
     "text": [
      "x=17, y=2\n",
      "x**y = 289\n"
     ]
    }
   ],
   "source": [
    "print(f'x={x}, y={y}')\n",
    "print(f'x**y = {x**y}')"
   ]
  },
  {
   "cell_type": "code",
   "execution_count": 43,
   "metadata": {},
   "outputs": [
    {
     "name": "stdout",
     "output_type": "stream",
     "text": [
      "Ayushi raj Singh 16\n",
      "Lucknow 7\n"
     ]
    }
   ],
   "source": [
    "print(f'{name} {len(name)}')\n",
    "print(f'{city} {len(city)}')"
   ]
  },
  {
   "cell_type": "code",
   "execution_count": 44,
   "metadata": {},
   "outputs": [
    {
     "name": "stdout",
     "output_type": "stream",
     "text": [
      "Ayushi raj Singh     16\n",
      "Lucknow              7\n"
     ]
    }
   ],
   "source": [
    "print(f'{name:20} {len(name)}') #spaces k liye (table form mei)\n",
    "print(f'{city:20} {len(city)}')"
   ]
  },
  {
   "cell_type": "code",
   "execution_count": null,
   "metadata": {},
   "outputs": [],
   "source": []
  }
 ],
 "metadata": {
  "kernelspec": {
   "display_name": "base",
   "language": "python",
   "name": "python3"
  },
  "language_info": {
   "codemirror_mode": {
    "name": "ipython",
    "version": 3
   },
   "file_extension": ".py",
   "mimetype": "text/x-python",
   "name": "python",
   "nbconvert_exporter": "python",
   "pygments_lexer": "ipython3",
   "version": "3.10.10"
  },
  "orig_nbformat": 4
 },
 "nbformat": 4,
 "nbformat_minor": 2
}
