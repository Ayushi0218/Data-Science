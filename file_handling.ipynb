{
 "cells": [
  {
   "cell_type": "markdown",
   "metadata": {},
   "source": [
    "#File Handling\n",
    "- open\n",
    "- read\n",
    "- write\n",
    "- append\n",
    "- close ❌\n",
    "        - with keyword is better"
   ]
  },
  {
   "cell_type": "code",
   "execution_count": 8,
   "metadata": {},
   "outputs": [
    {
     "data": {
      "text/plain": [
       "<_io.TextIOWrapper name='t1.py' mode='r' encoding='UTF-8'>"
      ]
     },
     "execution_count": 8,
     "metadata": {},
     "output_type": "execute_result"
    }
   ],
   "source": [
    "open('t1.py') #open and load into memory"
   ]
  },
  {
   "cell_type": "code",
   "execution_count": 9,
   "metadata": {},
   "outputs": [
    {
     "data": {
      "text/plain": [
       "\"from turtle import *\\n\\nspeed('slowest')\\npencolor('red')\\npensize(3)\\n\\n#range(stop value)\\n#range(start,stop)\\n#range(start,stop,step)\\n\\nfor i in range(1,20,2):\\n    fd(90)\\n    rt(360/10)\\n    dot(10, 'Green')\\n    write(i, font=('Calibre', 20, 'bold'))\\n\\n#reverse\\ngoto(100,100)\\nfor i in range(10,0,-1):\\n    fd(60)\\n    lt(360/10)\\n    dot(20, 'red')\\n    write(i, font=('Calibre', 25, 'bold'))\\n       \\nmainloop()\""
      ]
     },
     "execution_count": 9,
     "metadata": {},
     "output_type": "execute_result"
    }
   ],
   "source": [
    "open('t1.py').read()"
   ]
  },
  {
   "cell_type": "code",
   "execution_count": 7,
   "metadata": {},
   "outputs": [
    {
     "ename": "FileNotFoundError",
     "evalue": "[Errno 2] No such file or directory: 't5.py'",
     "output_type": "error",
     "traceback": [
      "\u001b[1;31m---------------------------------------------------------------------------\u001b[0m",
      "\u001b[1;31mFileNotFoundError\u001b[0m                         Traceback (most recent call last)",
      "Cell \u001b[1;32mIn[7], line 1\u001b[0m\n\u001b[1;32m----> 1\u001b[0m \u001b[39mopen\u001b[39;49m(\u001b[39m'\u001b[39;49m\u001b[39mt5.py\u001b[39;49m\u001b[39m'\u001b[39;49m)\u001b[39m.\u001b[39mread()\n",
      "File \u001b[1;32mc:\\Users\\Admin\\miniconda3\\lib\\site-packages\\IPython\\core\\interactiveshell.py:284\u001b[0m, in \u001b[0;36m_modified_open\u001b[1;34m(file, *args, **kwargs)\u001b[0m\n\u001b[0;32m    277\u001b[0m \u001b[39mif\u001b[39;00m file \u001b[39min\u001b[39;00m {\u001b[39m0\u001b[39m, \u001b[39m1\u001b[39m, \u001b[39m2\u001b[39m}:\n\u001b[0;32m    278\u001b[0m     \u001b[39mraise\u001b[39;00m \u001b[39mValueError\u001b[39;00m(\n\u001b[0;32m    279\u001b[0m         \u001b[39mf\u001b[39m\u001b[39m\"\u001b[39m\u001b[39mIPython won\u001b[39m\u001b[39m'\u001b[39m\u001b[39mt let you open fd=\u001b[39m\u001b[39m{\u001b[39;00mfile\u001b[39m}\u001b[39;00m\u001b[39m by default \u001b[39m\u001b[39m\"\u001b[39m\n\u001b[0;32m    280\u001b[0m         \u001b[39m\"\u001b[39m\u001b[39mas it is likely to crash IPython. If you know what you are doing, \u001b[39m\u001b[39m\"\u001b[39m\n\u001b[0;32m    281\u001b[0m         \u001b[39m\"\u001b[39m\u001b[39myou can use builtins\u001b[39m\u001b[39m'\u001b[39m\u001b[39m open.\u001b[39m\u001b[39m\"\u001b[39m\n\u001b[0;32m    282\u001b[0m     )\n\u001b[1;32m--> 284\u001b[0m \u001b[39mreturn\u001b[39;00m io_open(file, \u001b[39m*\u001b[39margs, \u001b[39m*\u001b[39m\u001b[39m*\u001b[39mkwargs)\n",
      "\u001b[1;31mFileNotFoundError\u001b[0m: [Errno 2] No such file or directory: 't5.py'"
     ]
    }
   ],
   "source": [
    "open('t5.py').read()"
   ]
  },
  {
   "cell_type": "code",
   "execution_count": 10,
   "metadata": {},
   "outputs": [
    {
     "name": "stdout",
     "output_type": "stream",
     "text": [
      "from turtle import *\n",
      "\n",
      "speed('slowest')\n",
      "pencolor('red')\n",
      "pensize(3)\n",
      "\n",
      "#range(stop value)\n",
      "#range(start,stop)\n",
      "#range(start,stop,step)\n",
      "\n",
      "for i in range(1,20,2):\n",
      "    fd(90)\n",
      "    rt(360/10)\n",
      "    dot(10, 'Green')\n",
      "    write(i, font=('Calibre', 20, 'bold'))\n",
      "\n",
      "#reverse\n",
      "goto(100,100)\n",
      "for i in range(10,0,-1):\n",
      "    fd(60)\n",
      "    lt(360/10)\n",
      "    dot(20, 'red')\n",
      "    write(i, font=('Calibre', 25, 'bold'))\n",
      "       \n",
      "mainloop()\n"
     ]
    }
   ],
   "source": [
    "#reading a file using with statement\n",
    "with open('t1.py') as file:\n",
    "    content = file.read()\n",
    "print(content)\n"
   ]
  },
  {
   "cell_type": "code",
   "execution_count": null,
   "metadata": {},
   "outputs": [
    {
     "name": "stdout",
     "output_type": "stream",
     "text": [
      "from turtle import *\n",
      "\n",
      "speed('slowest')\n",
      "pencolor('red')\n",
      "pensize(3)\n",
      "\n",
      "#range(stop value)\n",
      "#range(start,stop)\n",
      "#range(start,stop,step)\n",
      "\n",
      "for i in range(1,20,2):\n",
      "    fd(90)\n",
      "    rt(360/10)\n",
      "    dot(10, 'Green')\n",
      "    write(i, font=('Calibre', 20, 'bold'))\n",
      "\n",
      "#reverse\n",
      "goto(100,100)\n",
      "for i in range(10,0,-1):\n",
      "    fd(60)\n",
      "    lt(360/10)\n",
      "    dot(20, 'red')\n",
      "    write(i, font=('Calibre', 25, 'bold'))\n",
      "       \n",
      "mainloop()\n"
     ]
    }
   ],
   "source": [
    "#reading a file using with encoding and errors ignored\n",
    "with open('t1.py', encoding='utf-8',errors='ignore') as file:\n",
    "    content = file.read()\n",
    "print(content)"
   ]
  },
  {
   "cell_type": "code",
   "execution_count": 11,
   "metadata": {},
   "outputs": [
    {
     "name": "stdout",
     "output_type": "stream",
     "text": [
      "40311\n"
     ]
    }
   ],
   "source": [
    "path = r'C:\\Users\\Admin\\Downloads\\WhatsApp Image 2023-04-17 at 12.06.08 AM.jpeg'\n",
    "#open with file in read binary mode\n",
    "with open(path,'rb') as file:\n",
    "    bytes = file.read()\n",
    "print(len(bytes))"
   ]
  },
  {
   "cell_type": "code",
   "execution_count": 19,
   "metadata": {},
   "outputs": [
    {
     "name": "stdout",
     "output_type": "stream",
     "text": [
      "File created succesfully\n"
     ]
    }
   ],
   "source": [
    "#creating a text file\n",
    "data = 'Life before Death\\nStrength before Weakness\\nJourney before Destination'\n",
    "#'w' is the write mode\n",
    "with open('oaths.txt','w') as f: #completely overwrite\n",
    "    f.write(data)\n",
    "    print('File created succesfully')"
   ]
  },
  {
   "cell_type": "code",
   "execution_count": 13,
   "metadata": {},
   "outputs": [
    {
     "name": "stdout",
     "output_type": "stream",
     "text": [
      "kahani khatam\n"
     ]
    }
   ],
   "source": [
    "with open('kahani.txt','w') as file:\n",
    "    while True:\n",
    "        line = input('>>>')\n",
    "        if not line:\n",
    "            break\n",
    "        file.write(line+'\\n')\n",
    "    print('kahani khatam')"
   ]
  },
  {
   "cell_type": "code",
   "execution_count": 14,
   "metadata": {},
   "outputs": [
    {
     "name": "stdout",
     "output_type": "stream",
     "text": [
      "File Updated Successfully\n"
     ]
    }
   ],
   "source": [
    "#adding content to existing file\n",
    "with open('oaths.txt','a') as file:\n",
    "    file.write('\\nThe first ideal of knigth Radiant\\n')\n",
    "    file.write('from the book: The way of kings\\n')\n",
    "    print('File Updated Successfully')"
   ]
  },
  {
   "cell_type": "markdown",
   "metadata": {},
   "source": [
    "OS Library"
   ]
  },
  {
   "cell_type": "code",
   "execution_count": 15,
   "metadata": {},
   "outputs": [],
   "source": [
    "import os"
   ]
  },
  {
   "cell_type": "code",
   "execution_count": 16,
   "metadata": {},
   "outputs": [
    {
     "name": "stdout",
     "output_type": "stream",
     "text": [
      "the current path is:\n",
      "c:\\Users\\Admin\\Documents\\Data Science\n"
     ]
    }
   ],
   "source": [
    "print(\"the current path is:\")\n",
    "print(os.getcwd()) #get current working directory"
   ]
  },
  {
   "cell_type": "code",
   "execution_count": 17,
   "metadata": {},
   "outputs": [
    {
     "name": "stdout",
     "output_type": "stream",
     "text": [
      "All the content in current directory:\n"
     ]
    },
    {
     "data": {
      "text/plain": [
       "['.git',\n",
       " 'basics.ipynb',\n",
       " 'conditions.ipynb',\n",
       " 'dictionary.ipynb',\n",
       " 'file_handling.ipynb',\n",
       " 'hello.py',\n",
       " 'kahani.txt',\n",
       " 'list.ipynb',\n",
       " 'loops questions.ipynb',\n",
       " 'loops.ipynb',\n",
       " 'oaths.txt',\n",
       " 'string questions.ipynb',\n",
       " 'Strings.ipynb',\n",
       " 't1.py',\n",
       " 't2.py',\n",
       " 't3.py',\n",
       " 't4.py',\n",
       " 'tuples_and_sets.ipynb']"
      ]
     },
     "execution_count": 17,
     "metadata": {},
     "output_type": "execute_result"
    }
   ],
   "source": [
    "print(\"All the content in current directory:\")\n",
    "os.listdir()"
   ]
  },
  {
   "cell_type": "code",
   "execution_count": null,
   "metadata": {},
   "outputs": [
    {
     "name": "stdout",
     "output_type": "stream",
     "text": [
      "All the content of soem other location\n"
     ]
    },
    {
     "data": {
      "text/plain": [
       "['%LOCALAPPDATA%',\n",
       " 'addins',\n",
       " 'appcompat',\n",
       " 'apppatch',\n",
       " 'AppReadiness',\n",
       " 'assembly',\n",
       " 'bcastdvr',\n",
       " 'bfsvc.exe',\n",
       " 'BitLockerDiscoveryVolumeContents',\n",
       " 'Boot',\n",
       " 'bootstat.dat',\n",
       " 'Branding',\n",
       " 'BrowserCore',\n",
       " 'CbsTemp',\n",
       " 'certutil.log',\n",
       " 'comsetup.log',\n",
       " 'Containers',\n",
       " 'CSC',\n",
       " 'Cursors',\n",
       " 'debug',\n",
       " 'diagerr.xml',\n",
       " 'diagnostics',\n",
       " 'DiagTrack',\n",
       " 'diagwrn.xml',\n",
       " 'DigitalLocker',\n",
       " 'DirectX.log',\n",
       " 'Downloaded Program Files',\n",
       " 'DPINST.LOG',\n",
       " 'DtcInstall.log',\n",
       " 'ELAMBKUP',\n",
       " 'en-GB',\n",
       " 'en-US',\n",
       " 'explorer.exe',\n",
       " 'Fonts',\n",
       " 'GameBarPresenceWriter',\n",
       " 'Globalization',\n",
       " 'Help',\n",
       " 'HelpPane.exe',\n",
       " 'hh.exe',\n",
       " 'IdentityCRL',\n",
       " 'IME',\n",
       " 'ImmersiveControlPanel',\n",
       " 'InboxApps',\n",
       " 'INF',\n",
       " 'InputMethod',\n",
       " 'Installer',\n",
       " 'L2Schemas',\n",
       " 'LanguageOverlayCache',\n",
       " 'Lenovo',\n",
       " 'LiveKernelReports',\n",
       " 'Logs',\n",
       " 'Media',\n",
       " 'MEMORY.DMP',\n",
       " 'mib.bin',\n",
       " 'Microsoft.NET',\n",
       " 'Migration',\n",
       " 'Minidump',\n",
       " 'ModemLogs',\n",
       " 'notepad.exe',\n",
       " 'OCR',\n",
       " 'Offline Web Pages',\n",
       " 'Panther',\n",
       " 'Performance',\n",
       " 'PFRO.log',\n",
       " 'PLA',\n",
       " 'PolicyDefinitions',\n",
       " 'Prefetch',\n",
       " 'PrintDialog',\n",
       " 'Professional.xml',\n",
       " 'progress.ini',\n",
       " 'Provisioning',\n",
       " 'pss',\n",
       " 'regedit.exe',\n",
       " 'Registration',\n",
       " 'RemotePackages',\n",
       " 'rescache',\n",
       " 'Resources',\n",
       " 'SchCache',\n",
       " 'schemas',\n",
       " 'security',\n",
       " 'ServiceProfiles',\n",
       " 'ServiceState',\n",
       " 'servicing',\n",
       " 'Setup',\n",
       " 'setuperr.log',\n",
       " 'ShellComponents',\n",
       " 'ShellExperiences',\n",
       " 'SKB',\n",
       " 'SoftwareDistribution',\n",
       " 'Speech',\n",
       " 'Speech_OneCore',\n",
       " 'splwow64.exe',\n",
       " 'System',\n",
       " 'system.ini',\n",
       " 'System32',\n",
       " 'SystemApps',\n",
       " 'SystemResources',\n",
       " 'SystemTemp',\n",
       " 'SysWOW64',\n",
       " 'TAPI',\n",
       " 'Tasks',\n",
       " 'Temp',\n",
       " 'tracing',\n",
       " 'twain_32',\n",
       " 'twain_32.dll',\n",
       " 'UUS',\n",
       " 'Vss',\n",
       " 'WaaS',\n",
       " 'Web',\n",
       " 'win.ini',\n",
       " 'WindowsShell.Manifest',\n",
       " 'WindowsUpdate.log',\n",
       " 'winhlp32.exe',\n",
       " 'WinSxS',\n",
       " 'WMSysPr9.prx',\n",
       " 'write.exe',\n",
       " 'WUModels',\n",
       " 'xhunter1.sys',\n",
       " 'xhunters.log']"
      ]
     },
     "execution_count": 19,
     "metadata": {},
     "output_type": "execute_result"
    }
   ],
   "source": [
    "print(\"All the content of soem other location\")\n",
    "path = 'C:/Windows/'\n",
    "os.listdir(path)"
   ]
  },
  {
   "cell_type": "code",
   "execution_count": 18,
   "metadata": {},
   "outputs": [
    {
     "name": "stdout",
     "output_type": "stream",
     "text": [
      "C:/Users/Admin/Pictures/Camera Roll\\desktop.ini\n",
      "C:/Users/Admin/Pictures/Darshan\\2123683 (1).jpg\n",
      "C:/Users/Admin/Pictures/Darshan\\236039c3611d9784ba9964fd584cd129 (1).jpg\n",
      "C:/Users/Admin/Pictures/Darshan\\5-hit-songs-that-were-originally-written-by-darshan-raval.jpg\n",
      "C:/Users/Admin/Pictures/Darshan\\61fe5c22b21cb2001d9c73e7.jpg\n",
      "C:/Users/Admin/Pictures/Darshan\\Darshan\n",
      "C:/Users/Admin/Pictures/Darshan\\darshan-ravals-killer-looks-are-melting-the-hearts-of-fans-5.jpg\n",
      "C:/Users/Admin/Pictures/Darshan\\images (5).jpeg\n",
      "C:/Users/Admin/Pictures/Darshan\\images (6).jpeg\n",
      "C:/Users/Admin/Pictures/Darshan\\images (7).jpeg\n",
      "C:/Users/Admin/Pictures/Darshan\\images.jfif\n",
      "C:/Users/Admin/Pictures/Darshan\\peakpx.jpg\n",
      "C:/Users/Admin/Pictures/Darshan\\Screenshot_2022-10-04-21-45-57-38_1c337646f29875672b5a61192b9010f9.jpg\n",
      "C:/Users/Admin/Pictures/Darshan\\Screenshot_2022-10-04-21-54-37-73_1c337646f29875672b5a61192b9010f9.jpg\n",
      "C:/Users/Admin/Pictures/Darshan\\Screenshot_2022-10-05-15-23-46-36_1c337646f29875672b5a61192b9010f9.jpg\n",
      "C:/Users/Admin/Pictures/Darshan\\Screenshot_2022-10-05-15-24-04-38_1c337646f29875672b5a61192b9010f9.jpg\n",
      "C:/Users/Admin/Pictures/Darshan\\Screenshot_2022-10-05-15-24-19-32_1c337646f29875672b5a61192b9010f9.jpg\n",
      "C:/Users/Admin/Pictures/Darshan\\Screenshot_2022-10-05-15-24-42-05_1c337646f29875672b5a61192b9010f9.jpg\n",
      "C:/Users/Admin/Pictures/Darshan\\Screenshot_2022-10-05-15-25-04-92_1c337646f29875672b5a61192b9010f9.jpg\n",
      "C:/Users/Admin/Pictures/Darshan\\wp8000458-darshan-raval-hd-wallpapers.jpg\n",
      "C:/Users/Admin/Pictures/Darshan\\wp8000844.webp\n",
      "C:/Users/Admin/Pictures/Darshan\\wp8006328.webp\n",
      "C:/Users/Admin/Pictures/Darshan\\wp8457670.jpg\n",
      "C:/Users/Admin/Pictures/Saved Pictures\\desktop.ini\n",
      "C:/Users/Admin/Pictures/Screenshots\\desktop.ini\n",
      "C:/Users/Admin/Pictures/Screenshots\\Screenshot 2023-03-24 202949.png\n",
      "C:/Users/Admin/Pictures/Screenshots\\Screenshot 2023-03-24 203127.png\n",
      "C:/Users/Admin/Pictures/Screenshots\\Screenshot 2023-04-09 194107.png\n",
      "C:/Users/Admin/Pictures/Screenshots\\Screenshot 2023-04-22 114327.png\n",
      "C:/Users/Admin/Pictures/Screenshots\\Screenshot 2023-05-06 002145.png\n",
      "C:/Users/Admin/Pictures/Screenshots\\Screenshot 2023-05-06 002222.png\n",
      "C:/Users/Admin/Pictures/Screenshots\\Screenshot 2023-06-02 232514.png\n",
      "C:/Users/Admin/Pictures/Screenshots\\Screenshot 2023-06-02 232707.png\n",
      "C:/Users/Admin/Pictures/Screenshots\\Screenshot 2023-06-06 124835.png\n",
      "C:/Users/Admin/Pictures/Screenshots\\Screenshot 2023-06-06 165600.png\n",
      "C:/Users/Admin/Pictures/Screenshots\\Screenshot 2023-06-06 165634.png\n",
      "C:/Users/Admin/Pictures/Screenshots\\Screenshot 2023-06-06 170239.png\n",
      "C:/Users/Admin/Pictures/Screenshots\\Screenshot 2023-06-06 170302.png\n",
      "C:/Users/Admin/Pictures/Screenshots\\Screenshot 2023-06-06 170312.png\n",
      "C:/Users/Admin/Pictures/Screenshots\\Screenshot 2023-06-19 201146.png\n",
      "C:/Users/Admin/Pictures/Screenshots\\Screenshot 2023-06-19 221213.png\n",
      "C:/Users/Admin/Pictures/Screenshots\\Screenshot 2023-06-19 221357.png\n",
      "C:/Users/Admin/Pictures/Screenshots\\Screenshot 2023-06-19 221537.png\n",
      "C:/Users/Admin/Pictures/Screenshots\\Screenshot 2023-06-19 221626.png\n",
      "C:/Users/Admin/Pictures/Screenshots\\Screenshot 2023-06-19 221704.png\n",
      "C:/Users/Admin/Pictures/Screenshots\\Screenshot 2023-07-05 173429.png\n",
      "C:/Users/Admin/Pictures/Screenshots\\Screenshot 2023-07-10 013016.png\n",
      "C:/Users/Admin/Pictures/Screenshots\\Screenshot 2023-07-10 013323.png\n",
      "C:/Users/Admin/Pictures/Screenshots\\Screenshot 2023-07-11 100521.png\n",
      "C:/Users/Admin/Pictures/Screenshots\\Screenshot 2023-07-18 223509.png\n",
      "C:/Users/Admin/Pictures/Screenshots\\Screenshot 2023-07-18 224430.png\n",
      "C:/Users/Admin/Pictures/Screenshots\\Screenshot 2023-07-18 225058.png\n",
      "C:/Users/Admin/Pictures/Screenshots\\Screenshot 2023-07-18 225159.png\n",
      "C:/Users/Admin/Pictures/Screenshots\\Screenshot 2023-07-21 213535.png\n",
      "C:/Users/Admin/Pictures/Screenshots\\Screenshot 2023-07-24 210311.png\n",
      "C:/Users/Admin/Pictures/Screenshots\\Screenshot 2023-07-24 210545.png\n",
      "C:/Users/Admin/Pictures/Screenshots\\Screenshot 2023-07-24 210627.png\n",
      "C:/Users/Admin/Pictures/Screenshots\\Screenshot_20221221_082556.png\n",
      "C:/Users/Admin/Pictures/Screenshots\\Screenshot_20221226_052138.png\n",
      "C:/Users/Admin/Pictures/Screenshots\\Screenshot_20221226_052613.png\n",
      "C:/Users/Admin/Pictures/Screenshots\\Screenshot_20221226_114902.png\n",
      "C:/Users/Admin/Pictures/Screenshots\\Screenshot_20230106_071341.png\n",
      "C:/Users/Admin/Pictures/Screenshots\\Screenshot_20230118_094843.png\n",
      "C:/Users/Admin/Pictures/Screenshots\\Screenshot_20230118_095302.png\n",
      "C:/Users/Admin/Pictures/Screenshots\\Screenshot_20230118_095704.png\n",
      "C:/Users/Admin/Pictures/Screenshots\\Screenshot_20230118_101105.png\n",
      "C:/Users/Admin/Pictures/Screenshots\\Screenshot_20230118_101139.png\n",
      "C:/Users/Admin/Pictures/Screenshots\\Screenshot_20230118_101159.png\n",
      "C:/Users/Admin/Pictures/Screenshots\\Screenshot_20230118_102051.png\n",
      "C:/Users/Admin/Pictures/Screenshots\\Screenshot_20230118_102158.png\n",
      "C:/Users/Admin/Pictures/Screenshots\\Screenshot_20230118_102301.png\n",
      "C:/Users/Admin/Pictures/Screenshots\\Screenshot_20230118_102431.png\n",
      "C:/Users/Admin/Pictures/Screenshots\\Screenshot_20230217_100948.png\n",
      "C:/Users/Admin/Pictures/Screenshots\\Screenshot_20230217_103254.png\n",
      "C:/Users/Admin/Pictures/Screenshots\\Screenshot_20230217_103314.png\n",
      "C:/Users/Admin/Pictures/Screenshots\\Screenshot_20230217_103407.png\n",
      "C:/Users/Admin/Pictures/Screenshots\\Screenshot_20230217_103445.png\n",
      "C:/Users/Admin/Pictures/Screenshots\\Screenshot_20230217_103500.png\n",
      "C:/Users/Admin/Pictures/desktop.ini\n",
      "C:/Users/Admin/Pictures/sakshi.jpeg\n",
      "C:/Users/Admin/Pictures/Camera Roll\n",
      "C:/Users/Admin/Pictures/Darshan\n",
      "C:/Users/Admin/Pictures/Saved Pictures\n",
      "C:/Users/Admin/Pictures/Screenshots\n"
     ]
    }
   ],
   "source": [
    "# recursive file and folder \n",
    "for root,dirs,files in os.walk(\"C:/Users/Admin/Pictures/\",topdown = False):\n",
    "    for name in files:\n",
    "        print(os.path.join(root,name))\n",
    "    for name in dirs:\n",
    "        print(os.path.join(root,name))"
   ]
  }
 ],
 "metadata": {
  "kernelspec": {
   "display_name": "base",
   "language": "python",
   "name": "python3"
  },
  "language_info": {
   "codemirror_mode": {
    "name": "ipython",
    "version": 3
   },
   "file_extension": ".py",
   "mimetype": "text/x-python",
   "name": "python",
   "nbconvert_exporter": "python",
   "pygments_lexer": "ipython3",
   "version": "3.10.10"
  },
  "orig_nbformat": 4
 },
 "nbformat": 4,
 "nbformat_minor": 2
}
