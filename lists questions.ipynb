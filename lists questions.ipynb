{
 "cells": [
  {
   "cell_type": "markdown",
   "metadata": {},
   "source": [
    "- Write a program that creates an empty list and then asks the user to input integers to add to the list. Print the final list."
   ]
  },
  {
   "cell_type": "code",
   "execution_count": 4,
   "metadata": {},
   "outputs": [
    {
     "name": "stdout",
     "output_type": "stream",
     "text": [
      "[1, 2, 3, 4, 5, 6]\n"
     ]
    }
   ],
   "source": [
    "list = []\n",
    "x = int(input('Enter the number of integers you want to add'))\n",
    "for i in range(0,x):\n",
    "    list.append(int(input('Enter the integer')))\n",
    "print(list)\n"
   ]
  },
  {
   "cell_type": "markdown",
   "metadata": {},
   "source": [
    "- Write a program that creates a list of integers and then asks the user to input an integer to check if it exists in the list. Print a message indicating whether the integer is in the list or not."
   ]
  },
  {
   "cell_type": "code",
   "execution_count": 6,
   "metadata": {},
   "outputs": [
    {
     "name": "stdout",
     "output_type": "stream",
     "text": [
      "The number 21 doesnot exists in the list\n"
     ]
    }
   ],
   "source": [
    "list1 = [1,2,3,4,5,6,7,8,9,10]\n",
    "x = int(input('Enter the number to check its existence'))\n",
    "c = 0\n",
    "for i in range(0,len(list)):\n",
    "    if list[i] == x:\n",
    "        c += 1\n",
    "if c != 0:\n",
    "    print('The number',x,'exists in the list')\n",
    "else:\n",
    "    print('The number',x,'doesnot exists in the list')"
   ]
  },
  {
   "cell_type": "markdown",
   "metadata": {},
   "source": [
    "- Write a program that creates a list of strings and then sorts the list alphabetically. Print the sorted list."
   ]
  },
  {
   "cell_type": "code",
   "execution_count": 10,
   "metadata": {},
   "outputs": [
    {
     "name": "stdout",
     "output_type": "stream",
     "text": [
      "['Abhinav', 'Abhishek', 'Ayushi', 'Mansee', 'Sanskriti']\n"
     ]
    }
   ],
   "source": [
    "list_string = ['Ayushi','Abhinav','Abhishek','Mansee','Sanskriti']\n",
    "list_string.sort()\n",
    "print(list_string)"
   ]
  },
  {
   "cell_type": "markdown",
   "metadata": {},
   "source": [
    "- Write a program that creates a list of integers and then finds the maximum value in the list. Print the maximum value."
   ]
  },
  {
   "cell_type": "code",
   "execution_count": 16,
   "metadata": {},
   "outputs": [
    {
     "name": "stdout",
     "output_type": "stream",
     "text": [
      "The maximum value of the list [2, 3, 4, 7, 9, 10, 15, 17, 18, 21] is: 21\n"
     ]
    }
   ],
   "source": [
    "num_list = [21,18,2,4,10,7,15,17,3,9]\n",
    "num_list.sort()\n",
    "print('The maximum value of the list',num_list,'is:',num_list[len(num_list)-1])"
   ]
  },
  {
   "cell_type": "markdown",
   "metadata": {},
   "source": [
    "- Write a program that creates two lists of integers and then finds the common elements between those two lists. Print the common elements."
   ]
  },
  {
   "cell_type": "code",
   "execution_count": 30,
   "metadata": {},
   "outputs": [
    {
     "name": "stdout",
     "output_type": "stream",
     "text": [
      "The common elements= [12]\n"
     ]
    }
   ],
   "source": [
    "list2 = [2,4,6,8,10,12]\n",
    "list3 = [1,3,5,7,9,11,12]\n",
    "common_elements = []\n",
    "for i in range(0,len(list2)):\n",
    "    for j in range(0,len(list3)):\n",
    "        if list2[i] == list3[j]:\n",
    "            common_elements.append(list3[j])\n",
    "if len(common_elements)== 0:\n",
    "    print('No common elements')\n",
    "else:\n",
    "    print('The common elements=',common_elements)"
   ]
  },
  {
   "cell_type": "markdown",
   "metadata": {},
   "source": [
    "- Write a program that creates a list of strings and then removes all elements that contain a specific substring. Print the final list."
   ]
  },
  {
   "cell_type": "code",
   "execution_count": 10,
   "metadata": {},
   "outputs": [
    {
     "name": "stdout",
     "output_type": "stream",
     "text": [
      "['banana', 'guava', 'grape', 'mango']\n"
     ]
    }
   ],
   "source": [
    "fruits = ['apple','banana','guava','orange','grape','mango']\n",
    "c =0\n",
    "for i in fruits:\n",
    "    c = i.count('e')\n",
    "    if c != 0:\n",
    "        fruits.remove(i)\n",
    "print(fruits)"
   ]
  },
  {
   "cell_type": "markdown",
   "metadata": {},
   "source": [
    "- Write a program that creates a nested list and then accesses a specific element in the list. Print the accessed element."
   ]
  },
  {
   "cell_type": "code",
   "execution_count": 18,
   "metadata": {},
   "outputs": [
    {
     "name": "stdout",
     "output_type": "stream",
     "text": [
      "The accessed element at index [1] [0] is: 4\n"
     ]
    }
   ],
   "source": [
    "nested_list = [[1,2,3],[4,5,6],[7,8,9]]\n",
    "row = 1\n",
    "column = 0\n",
    "print(f'The accessed element at index [{row}] [{column}] is: {nested_list[row][column]}')"
   ]
  },
  {
   "cell_type": "markdown",
   "metadata": {},
   "source": [
    "- Write a program that creates a list of strings and then finds the longest string in the list. Print the longest string."
   ]
  },
  {
   "cell_type": "code",
   "execution_count": 22,
   "metadata": {},
   "outputs": [
    {
     "name": "stdout",
     "output_type": "stream",
     "text": [
      "The longest string in the ['Apple', 'Banana', 'Pineapple', 'Watermelon'] is: Watermelon\n"
     ]
    }
   ],
   "source": [
    "stringg = ['Apple','Banana','Pineapple','Watermelon']\n",
    "max_length = ''\n",
    "for i in stringg:\n",
    "    if len(i)>len(max_length):\n",
    "        max_length = i\n",
    "print('The longest string in the',stringg,'is:',max_length)"
   ]
  },
  {
   "cell_type": "markdown",
   "metadata": {},
   "source": [
    "- Write a program that creates a list of integers and then removes all duplicates from the list. Print the final list."
   ]
  },
  {
   "cell_type": "code",
   "execution_count": 1,
   "metadata": {},
   "outputs": [
    {
     "name": "stdout",
     "output_type": "stream",
     "text": [
      "{1, 2, 3, 4, 6, 7, 8, 9}\n"
     ]
    }
   ],
   "source": [
    "integer_list = [1,2,2,3,4,4,6,8,9,7,1]\n",
    "integer_list = set(integer_list)\n",
    "print(integer_list)"
   ]
  },
  {
   "cell_type": "markdown",
   "metadata": {},
   "source": [
    "-  "
   ]
  },
  {
   "cell_type": "code",
   "execution_count": null,
   "metadata": {},
   "outputs": [],
   "source": []
  }
 ],
 "metadata": {
  "kernelspec": {
   "display_name": "base",
   "language": "python",
   "name": "python3"
  },
  "language_info": {
   "codemirror_mode": {
    "name": "ipython",
    "version": 3
   },
   "file_extension": ".py",
   "mimetype": "text/x-python",
   "name": "python",
   "nbconvert_exporter": "python",
   "pygments_lexer": "ipython3",
   "version": "3.10.10"
  },
  "orig_nbformat": 4
 },
 "nbformat": 4,
 "nbformat_minor": 2
}
