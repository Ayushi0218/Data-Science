{
 "cells": [
  {
   "cell_type": "markdown",
   "metadata": {},
   "source": [
    "- Write a program to print numbers from 1 to 10 using a for loop."
   ]
  },
  {
   "cell_type": "code",
   "execution_count": 52,
   "metadata": {},
   "outputs": [
    {
     "name": "stdout",
     "output_type": "stream",
     "text": [
      "1\n",
      "2\n",
      "3\n",
      "4\n",
      "5\n",
      "6\n",
      "7\n",
      "8\n",
      "9\n",
      "10\n"
     ]
    }
   ],
   "source": [
    "for x in range(1,11):\n",
    "    print(x)"
   ]
  },
  {
   "cell_type": "markdown",
   "metadata": {},
   "source": [
    "- Write a program to print the multiplication table of a given number using a while loop."
   ]
  },
  {
   "cell_type": "code",
   "execution_count": 53,
   "metadata": {},
   "outputs": [
    {
     "name": "stdout",
     "output_type": "stream",
     "text": [
      "5 X 1 = 5\n",
      "5 X 2 = 10\n",
      "5 X 3 = 15\n",
      "5 X 4 = 20\n",
      "5 X 5 = 25\n",
      "5 X 6 = 30\n",
      "5 X 7 = 35\n",
      "5 X 8 = 40\n",
      "5 X 9 = 45\n",
      "5 X 10 = 50\n"
     ]
    }
   ],
   "source": [
    "x = int(input('enter the numnber'))\n",
    "c= 1\n",
    "while c <= 10:\n",
    "    num = (x*c)\n",
    "    print(x,'X',c,'=',num)\n",
    "    c += 1"
   ]
  },
  {
   "cell_type": "markdown",
   "metadata": {},
   "source": [
    "- Write a program to find the sum of all even numbers between 1 and 100 using a for loop."
   ]
  },
  {
   "cell_type": "code",
   "execution_count": 54,
   "metadata": {},
   "outputs": [
    {
     "name": "stdout",
     "output_type": "stream",
     "text": [
      "2550\n"
     ]
    }
   ],
   "source": [
    "sum=0\n",
    "for i in range(1,101):\n",
    "    if i%2 == 0:\n",
    "        sum = sum +i\n",
    "print(sum)"
   ]
  },
  {
   "cell_type": "markdown",
   "metadata": {},
   "source": [
    "- Write a program to check if a given number is prime or not using a while loop."
   ]
  },
  {
   "cell_type": "code",
   "execution_count": 55,
   "metadata": {},
   "outputs": [
    {
     "name": "stdout",
     "output_type": "stream",
     "text": [
      "It is a Prime number\n"
     ]
    }
   ],
   "source": [
    "x = int(input('Enter the number'))\n",
    "i=1\n",
    "c=0\n",
    "while i <= x/2:\n",
    "    if (x%i) == 0:\n",
    "        c += 1\n",
    "    i += 1\n",
    "if c ==1:\n",
    "    print('It is a Prime number')\n",
    "else:\n",
    "    print('It is not a Prime Number')"
   ]
  },
  {
   "cell_type": "markdown",
   "metadata": {},
   "source": [
    "- Write a program to calculate the factorial of a number using a for loop."
   ]
  },
  {
   "cell_type": "code",
   "execution_count": 56,
   "metadata": {},
   "outputs": [
    {
     "name": "stdout",
     "output_type": "stream",
     "text": [
      "factorial of 5 = 120\n"
     ]
    }
   ],
   "source": [
    "x = int(input('Enter the number'))\n",
    "factorial = 1\n",
    "for i in range(1,x+1):\n",
    "    factorial = factorial*i\n",
    "print('factorial of',x,'=',factorial)"
   ]
  },
  {
   "cell_type": "markdown",
   "metadata": {},
   "source": [
    "- Write a program to print the Fibonacci series up to a given limit using a while loop."
   ]
  },
  {
   "cell_type": "code",
   "execution_count": 57,
   "metadata": {},
   "outputs": [
    {
     "name": "stdout",
     "output_type": "stream",
     "text": [
      "0 1 1 2 3 5 8 13 21 34 "
     ]
    }
   ],
   "source": [
    "c=0\n",
    "x= 0\n",
    "y= 1\n",
    "fibo =0 \n",
    "limit = int(input('Enter the limit'))\n",
    "while c<limit:\n",
    "    print(fibo, end=' ')\n",
    "    c += 1\n",
    "    x=y\n",
    "    y=fibo\n",
    "    fibo=x+y"
   ]
  },
  {
   "cell_type": "markdown",
   "metadata": {},
   "source": [
    "- Write a program to find the largest element in an array using a for loop."
   ]
  },
  {
   "cell_type": "code",
   "execution_count": 58,
   "metadata": {},
   "outputs": [
    {
     "name": "stdout",
     "output_type": "stream",
     "text": [
      "[10, 29, 54, 36, 19, 33]\n",
      "Largest Element= 54\n"
     ]
    }
   ],
   "source": [
    "arr = [10,29,54,36,19,33]\n",
    "max_num=arr[0]\n",
    "for i in range(0,len(arr)):\n",
    "    if max_num<arr[i]:\n",
    "       max_num = arr[i]\n",
    "print(arr)\n",
    "print('Largest Element=',max_num)"
   ]
  },
  {
   "cell_type": "markdown",
   "metadata": {},
   "source": [
    "- Write a program to reverse a given string using a while loop."
   ]
  },
  {
   "cell_type": "code",
   "execution_count": 59,
   "metadata": {},
   "outputs": [
    {
     "name": "stdout",
     "output_type": "stream",
     "text": [
      "egassem a si sihT\n"
     ]
    }
   ],
   "source": [
    "message = 'This is a message'\n",
    "print(message[::-1])"
   ]
  },
  {
   "cell_type": "markdown",
   "metadata": {},
   "source": [
    "- Write a program to print the ASCII values of all uppercase letters using a for loop."
   ]
  },
  {
   "cell_type": "code",
   "execution_count": 84,
   "metadata": {},
   "outputs": [
    {
     "name": "stdout",
     "output_type": "stream",
     "text": [
      "Ascii value of A is: 65\n",
      "Ascii value of B is: 66\n",
      "Ascii value of C is: 67\n",
      "Ascii value of D is: 68\n",
      "Ascii value of E is: 69\n",
      "Ascii value of F is: 70\n",
      "Ascii value of G is: 71\n",
      "Ascii value of H is: 72\n",
      "Ascii value of I is: 73\n",
      "Ascii value of J is: 74\n",
      "Ascii value of K is: 75\n",
      "Ascii value of L is: 76\n",
      "Ascii value of M is: 77\n",
      "Ascii value of N is: 78\n",
      "Ascii value of O is: 79\n",
      "Ascii value of P is: 80\n",
      "Ascii value of Q is: 81\n",
      "Ascii value of R is: 82\n",
      "Ascii value of S is: 83\n",
      "Ascii value of T is: 84\n",
      "Ascii value of U is: 85\n",
      "Ascii value of V is: 86\n",
      "Ascii value of W is: 87\n",
      "Ascii value of X is: 88\n",
      "Ascii value of Y is: 89\n",
      "Ascii value of Z is: 90\n"
     ]
    }
   ],
   "source": [
    "uppercase = 'ABCDEFGHIJKLMNOPQRSTUVWXYZ'\n",
    "for i in uppercase:\n",
    "    print('Ascii value of',i,'is:',ord(i))"
   ]
  },
  {
   "cell_type": "markdown",
   "metadata": {},
   "source": [
    "- Write a program to check if a given string is a palindrome using a while loop."
   ]
  },
  {
   "cell_type": "code",
   "execution_count": 60,
   "metadata": {},
   "outputs": [
    {
     "name": "stdout",
     "output_type": "stream",
     "text": [
      "The String is palindrome\n"
     ]
    }
   ],
   "source": [
    "message = 'wow'\n",
    "reverse = message[::-1]\n",
    "flag = True\n",
    "while True:\n",
    "    if reverse == message:\n",
    "        print('The String is palindrome')\n",
    "        break\n",
    "    else:\n",
    "        print('The String is not palindrome')\n",
    "        break"
   ]
  },
  {
   "cell_type": "markdown",
   "metadata": {},
   "source": [
    "- Write a program to calculate the average of a list of numbers using a for loop."
   ]
  },
  {
   "cell_type": "code",
   "execution_count": 61,
   "metadata": {},
   "outputs": [
    {
     "name": "stdout",
     "output_type": "stream",
     "text": [
      "Sum of all elements of [1, 2, 3, 4, 5, 6, 7, 8, 9, 10] : 55\n"
     ]
    }
   ],
   "source": [
    "list = [1,2,3,4,5,6,7,8,9,10]\n",
    "sum = 0\n",
    "for i in range(0,len(list)):\n",
    "    sum += list[i]\n",
    "print('Sum of all elements of',list,':',sum)"
   ]
  },
  {
   "cell_type": "markdown",
   "metadata": {},
   "source": [
    "- Write a program to find the smallest element in an array using a while loop."
   ]
  },
  {
   "cell_type": "code",
   "execution_count": 62,
   "metadata": {},
   "outputs": [
    {
     "name": "stdout",
     "output_type": "stream",
     "text": [
      "[10, 33, 45, 66, 54, 2, 99]\n",
      "The smallest element of the array: 2\n"
     ]
    }
   ],
   "source": [
    "arr = [10,33,45,66,54,2,99]\n",
    "min_num = arr[0]\n",
    "for i in range(0,len(arr)):\n",
    "    if arr[i] < min_num:\n",
    "        min_num = arr[i]\n",
    "print(arr)\n",
    "print('The smallest element of the array:',min_num)"
   ]
  },
  {
   "cell_type": "markdown",
   "metadata": {},
   "source": [
    "- Write a program to calculate the sum of digits of a number using a for loop."
   ]
  },
  {
   "cell_type": "code",
   "execution_count": 63,
   "metadata": {},
   "outputs": [
    {
     "name": "stdout",
     "output_type": "stream",
     "text": [
      "7\n"
     ]
    }
   ],
   "source": [
    "num = 1024\n",
    "sum =0\n",
    "strr = str(num)\n",
    "for i in strr:\n",
    "    sum += int(i)\n",
    "print(sum)"
   ]
  },
  {
   "cell_type": "markdown",
   "metadata": {},
   "source": [
    "- Write a program to check if a given year is a leap year using a while loop."
   ]
  },
  {
   "cell_type": "code",
   "execution_count": 64,
   "metadata": {},
   "outputs": [
    {
     "name": "stdout",
     "output_type": "stream",
     "text": [
      "The year 2004 is a leap year\n"
     ]
    }
   ],
   "source": [
    "year = 2004\n",
    "flag = True\n",
    "while True:\n",
    "    if year%2 ==0:\n",
    "        print('The year',year,'is a leap year')\n",
    "        break\n",
    "    else:\n",
    "        print('The year',year,'is not a leap year')\n",
    "        break"
   ]
  },
  {
   "cell_type": "markdown",
   "metadata": {},
   "source": [
    "- Write a program to print the multiplication table of numbers from 1 to 5 using a for loop."
   ]
  },
  {
   "cell_type": "code",
   "execution_count": 65,
   "metadata": {},
   "outputs": [
    {
     "name": "stdout",
     "output_type": "stream",
     "text": [
      "1 X 1 = 1\n",
      "1 X 2 = 2\n",
      "1 X 3 = 3\n",
      "1 X 4 = 4\n",
      "1 X 5 = 5\n",
      "1 X 6 = 6\n",
      "1 X 7 = 7\n",
      "1 X 8 = 8\n",
      "1 X 9 = 9\n",
      "1 X 10 = 10\n",
      "2 X 1 = 2\n",
      "2 X 2 = 4\n",
      "2 X 3 = 6\n",
      "2 X 4 = 8\n",
      "2 X 5 = 10\n",
      "2 X 6 = 12\n",
      "2 X 7 = 14\n",
      "2 X 8 = 16\n",
      "2 X 9 = 18\n",
      "2 X 10 = 20\n",
      "3 X 1 = 3\n",
      "3 X 2 = 6\n",
      "3 X 3 = 9\n",
      "3 X 4 = 12\n",
      "3 X 5 = 15\n",
      "3 X 6 = 18\n",
      "3 X 7 = 21\n",
      "3 X 8 = 24\n",
      "3 X 9 = 27\n",
      "3 X 10 = 30\n",
      "4 X 1 = 4\n",
      "4 X 2 = 8\n",
      "4 X 3 = 12\n",
      "4 X 4 = 16\n",
      "4 X 5 = 20\n",
      "4 X 6 = 24\n",
      "4 X 7 = 28\n",
      "4 X 8 = 32\n",
      "4 X 9 = 36\n",
      "4 X 10 = 40\n",
      "5 X 1 = 5\n",
      "5 X 2 = 10\n",
      "5 X 3 = 15\n",
      "5 X 4 = 20\n",
      "5 X 5 = 25\n",
      "5 X 6 = 30\n",
      "5 X 7 = 35\n",
      "5 X 8 = 40\n",
      "5 X 9 = 45\n",
      "5 X 10 = 50\n"
     ]
    }
   ],
   "source": [
    "for i in range(1,6):\n",
    "    for j in range(1,11):\n",
    "        print(i,'X',j,'=',i*j)"
   ]
  },
  {
   "cell_type": "markdown",
   "metadata": {},
   "source": [
    "- Write a program to find the factorial of a number using a while loop."
   ]
  },
  {
   "cell_type": "code",
   "execution_count": 66,
   "metadata": {},
   "outputs": [
    {
     "name": "stdout",
     "output_type": "stream",
     "text": [
      "Factorial of 5 = 120\n"
     ]
    }
   ],
   "source": [
    "num = 5\n",
    "i = num\n",
    "fact = 1\n",
    "while num>0:\n",
    "    fact= fact*num\n",
    "    num -= 1\n",
    "print('Factorial of',i,'=',fact)"
   ]
  },
  {
   "cell_type": "markdown",
   "metadata": {},
   "source": [
    "- Write a program to count the number of vowels in a given string using a for loop."
   ]
  },
  {
   "cell_type": "code",
   "execution_count": 67,
   "metadata": {},
   "outputs": [
    {
     "name": "stdout",
     "output_type": "stream",
     "text": [
      "ayushi raj singh\n",
      "The number of vowels in ayushi raj singh = 5\n"
     ]
    }
   ],
   "source": [
    "strr = 'Ayushi Raj Singh'\n",
    "strr = strr.lower()\n",
    "list = strr[::1]\n",
    "print(list)\n",
    "c = 0\n",
    "vowel = ['a','e','i','o','u']\n",
    "for i in range(0,len(list)):\n",
    "    for j in range(0,len(vowel)):\n",
    "        if vowel[j] == list[i]:\n",
    "            c += 1\n",
    "print('The number of vowels in',strr,'=',c)"
   ]
  },
  {
   "cell_type": "markdown",
   "metadata": {},
   "source": [
    "- Write a program to check if a given number is a perfect square using a while loop."
   ]
  },
  {
   "cell_type": "code",
   "execution_count": 92,
   "metadata": {},
   "outputs": [
    {
     "name": "stdout",
     "output_type": "stream",
     "text": [
      "The given number 16 is a perfect square\n"
     ]
    }
   ],
   "source": [
    "x = int(input('Enter the number to be checked'))\n",
    "i =1\n",
    "while i<x:\n",
    "    if i**2 == x:\n",
    "        print('The given number',x,'is a perfect square')\n",
    "        break\n",
    "    i+=1\n",
    "else:\n",
    "    print('The given number',x,'is not a perfect square')"
   ]
  },
  {
   "cell_type": "markdown",
   "metadata": {},
   "source": [
    "- Write a program to find the largest and smallest elements in an array using a for loop."
   ]
  },
  {
   "cell_type": "code",
   "execution_count": null,
   "metadata": {},
   "outputs": [],
   "source": [
    "arr = [10,24,58,99,121,2,21]\n",
    "max = arr[0]\n",
    "min = arr[0]\n",
    "for i in range(0,len(arr)):\n",
    "    if max < arr[i]:\n",
    "        max = arr[i]\n",
    "    if min > arr[i]:\n",
    "        min = arr[i]\n",
    "print(arr)\n",
    "print('The largest element of the array=',max)\n",
    "print('The smallest element of the array=',min)"
   ]
  },
  {
   "cell_type": "markdown",
   "metadata": {},
   "source": [
    "- Write a program to reverse the order of words in a sentence using a while loop."
   ]
  },
  {
   "cell_type": "code",
   "execution_count": 94,
   "metadata": {},
   "outputs": [
    {
     "name": "stdout",
     "output_type": "stream",
     "text": [
      "It is what it is\n",
      "The reverse order of words: is it what is It\n"
     ]
    }
   ],
   "source": [
    "string = 'It is what it is'\n",
    "list = string.split(' ')\n",
    "print(string)\n",
    "while True:\n",
    "    print('The reverse order of words:',' '.join(list[::-1]))\n",
    "    break"
   ]
  }
 ],
 "metadata": {
  "kernelspec": {
   "display_name": "base",
   "language": "python",
   "name": "python3"
  },
  "language_info": {
   "codemirror_mode": {
    "name": "ipython",
    "version": 3
   },
   "file_extension": ".py",
   "mimetype": "text/x-python",
   "name": "python",
   "nbconvert_exporter": "python",
   "pygments_lexer": "ipython3",
   "version": "3.10.10"
  },
  "orig_nbformat": 4
 },
 "nbformat": 4,
 "nbformat_minor": 2
}
