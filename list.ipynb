{
 "cells": [
  {
   "cell_type": "markdown",
   "metadata": {},
   "source": [
    "#### list\n",
    "- indexed,ordered,mutable,allows duplicate elements, heterogeneous,'[]','list()'\n",
    "#### tuple\n",
    "- indexed,ordered,**immutable**,allows duplicate elements, heterogeneous,'()','tuple()'\n",
    "#### set\n",
    "- **unordered**,mutable,**does not allows duplicate elements**, heterogeneous,'{}','set()'\n",
    "#### dictionary\n",
    "- **unordered**,mutable,**does not allows duplicate elements**, heterogeneous,key:value pairs,'{}','dict()'\n"
   ]
  },
  {
   "cell_type": "markdown",
   "metadata": {},
   "source": [
    "#### list \n",
    "- cretion\n",
    "- indexing and slicing\n",
    "- methods(11 methods)\n",
    "- lists comprehension"
   ]
  },
  {
   "cell_type": "code",
   "execution_count": 1,
   "metadata": {},
   "outputs": [],
   "source": [
    "x = [1,2,3,4,5]\n",
    "names = ['John', 'Paul','George','Ringo']\n",
    "mix = [1,'John',3.14,True]\n",
    "nested = [[1,2,3],[4,5,6],[7,8,9]]\n",
    "empty = []\n",
    "cloned = [1,2,3]*5 #repeat list 5 times\n",
    "words = 'this is sparta'.split()\n",
    "chars = list('Alexander')"
   ]
  },
  {
   "cell_type": "code",
   "execution_count": 2,
   "metadata": {},
   "outputs": [
    {
     "data": {
      "text/plain": [
       "1"
      ]
     },
     "execution_count": 2,
     "metadata": {},
     "output_type": "execute_result"
    }
   ],
   "source": [
    "print(x[0])\n",
    "print(x[-1])\n",
    "x [0] = 100 #mutable #updating value at index 0"
   ]
  },
  {
   "cell_type": "code",
   "execution_count": 4,
   "metadata": {},
   "outputs": [
    {
     "name": "stdout",
     "output_type": "stream",
     "text": [
      "['A', 'l', 'e', 'x', 'a']\n",
      "['n', 'd', 'e', 'r']\n",
      "['A', 'l', 'e', 'x']\n",
      "['r', 'e', 'd', 'n', 'a', 'x', 'e', 'l', 'A']\n"
     ]
    }
   ],
   "source": [
    "print(chars[:5])\n",
    "print(chars[5:])\n",
    "print(chars[:-5])\n",
    "print(chars[::-1])"
   ]
  },
  {
   "cell_type": "markdown",
   "metadata": {},
   "source": [
    "- methods are linked to variable\n",
    "- functions can be directly accessed"
   ]
  },
  {
   "cell_type": "markdown",
   "metadata": {},
   "source": [
    "#### Methods\n",
    "- adding\n",
    "    - append() - adds an element to the end of the list\n",
    "    - extend() - add all elements of one list to another lis\n",
    "    - insert() - adds an element to a specific index\n",
    "- removing \n",
    "    - remove() - \n",
    "    - pop()\n",
    "    - clear()\n",
    "- utility methods\n",
    "    - count()\n",
    "    - index()\n",
    "    - sort()\n",
    "    - reverse()\n",
    "    - copy()"
   ]
  },
  {
   "cell_type": "code",
   "execution_count": 5,
   "metadata": {},
   "outputs": [
    {
     "name": "stdout",
     "output_type": "stream",
     "text": [
      "[1, 2, 3, 4, 5, 6, 3]\n"
     ]
    }
   ],
   "source": [
    "x.append(6)\n",
    "x.append(3)\n",
    "print(x)"
   ]
  },
  {
   "cell_type": "code",
   "execution_count": 6,
   "metadata": {},
   "outputs": [
    {
     "name": "stdout",
     "output_type": "stream",
     "text": [
      "[1, 2, 3, 4, 5, 6, 3, 11, 12, 13]\n"
     ]
    }
   ],
   "source": [
    "a = [11,12,13]\n",
    "x.extend(a)\n",
    "print(x)"
   ]
  },
  {
   "cell_type": "code",
   "execution_count": 8,
   "metadata": {},
   "outputs": [
    {
     "name": "stdout",
     "output_type": "stream",
     "text": [
      "[1, 2, 3, 4, 5, 100, 500, 100, 500, 6, 3, 11, 12, 13]\n"
     ]
    }
   ],
   "source": [
    "x.insert(5,100)\n",
    "x.insert(6,500)\n",
    "print(x) # 5 aur 6 index aage shift ho jaega"
   ]
  },
  {
   "cell_type": "markdown",
   "metadata": {},
   "source": [
    "wap to take 10 values from user and fill it into list"
   ]
  },
  {
   "cell_type": "code",
   "execution_count": 19,
   "metadata": {},
   "outputs": [
    {
     "name": "stdout",
     "output_type": "stream",
     "text": [
      "['0', '1', '2', '3', '4', '5', '6', '7', '8', '9']\n"
     ]
    }
   ],
   "source": [
    "list = []\n",
    "for i in range(0,10):\n",
    "    x = input('enter the values')#typecasting krni padegi agar numbers add krne h to\n",
    "    list.append(x)\n",
    "print(list)"
   ]
  },
  {
   "cell_type": "code",
   "execution_count": 20,
   "metadata": {},
   "outputs": [
    {
     "name": "stdout",
     "output_type": "stream",
     "text": [
      "['0', '1', '2', '3', '5', '6', '7', '8', '9']\n"
     ]
    }
   ],
   "source": [
    "list\n",
    "list.remove('4')\n",
    "print(list)"
   ]
  },
  {
   "cell_type": "code",
   "execution_count": 22,
   "metadata": {},
   "outputs": [
    {
     "name": "stdout",
     "output_type": "stream",
     "text": [
      "nine not found\n"
     ]
    }
   ],
   "source": [
    "list.remove('6') if '6' in list else print('nine not found')"
   ]
  },
  {
   "cell_type": "code",
   "execution_count": 26,
   "metadata": {},
   "outputs": [
    {
     "name": "stdout",
     "output_type": "stream",
     "text": [
      "5\n",
      "3\n"
     ]
    }
   ],
   "source": [
    "x = [1,2,3,4,5]\n",
    "print(x.pop()) #last element\n",
    "print(x.pop(2))\n",
    "#galat index denge to crash kr jaega"
   ]
  },
  {
   "cell_type": "code",
   "execution_count": 28,
   "metadata": {},
   "outputs": [
    {
     "name": "stdout",
     "output_type": "stream",
     "text": [
      "[]\n"
     ]
    }
   ],
   "source": [
    "x.clear()\n",
    "print(x) #list khali ho jaegi"
   ]
  },
  {
   "cell_type": "code",
   "execution_count": 29,
   "metadata": {},
   "outputs": [],
   "source": [
    "del x #kisi bhi variable ko memory se hatane k liye (keyword h del)"
   ]
  },
  {
   "cell_type": "code",
   "execution_count": 30,
   "metadata": {},
   "outputs": [
    {
     "name": "stdout",
     "output_type": "stream",
     "text": [
      "6\n"
     ]
    }
   ],
   "source": [
    "a = [1,2,3,1,1,2,2,2,2,1,1,1]\n",
    "print(a.count(1))\n",
    "# sort mei sort ho jaegi (agar mix data hoga to crash ho jaegi)\n",
    "#reverse mei reverse ho jaegi"
   ]
  },
  {
   "cell_type": "code",
   "execution_count": 31,
   "metadata": {},
   "outputs": [
    {
     "name": "stdout",
     "output_type": "stream",
     "text": [
      "['George', 'John', 'Paul', 'Ringo']\n"
     ]
    }
   ],
   "source": [
    "names.sort()\n",
    "print(names)"
   ]
  },
  {
   "cell_type": "markdown",
   "metadata": {},
   "source": [
    "wap a program to create a fibonacci series of 10 numbers and store it in a list"
   ]
  },
  {
   "cell_type": "code",
   "execution_count": 38,
   "metadata": {},
   "outputs": [
    {
     "name": "stdout",
     "output_type": "stream",
     "text": [
      "[0, 1, 1, 2, 3, 5, 8, 13, 21, 34]\n"
     ]
    }
   ],
   "source": [
    "x = 0\n",
    "y= 1\n",
    "list = []\n",
    "fibo =0\n",
    "list.append(x)\n",
    "list.append(y)\n",
    "for i in range(0,8):\n",
    "    fibo = x + y\n",
    "    x = y\n",
    "    y = fibo\n",
    "    list.append(fibo)\n",
    "print(list)"
   ]
  },
  {
   "cell_type": "code",
   "execution_count": 40,
   "metadata": {},
   "outputs": [
    {
     "name": "stdout",
     "output_type": "stream",
     "text": [
      "[0, 1, 1, 2, 3, 5, 8, 13, 21, 34, 55, 89]\n"
     ]
    }
   ],
   "source": [
    "a =[0,1]\n",
    "for i in range(10):\n",
    "    a.append(a[-2]+a[-1])\n",
    "print(a)"
   ]
  },
  {
   "cell_type": "code",
   "execution_count": 3,
   "metadata": {},
   "outputs": [
    {
     "name": "stdout",
     "output_type": "stream",
     "text": [
      "[1, 2, 3, 4, 5]\n",
      "[1, 4, 9, 16, 25]\n"
     ]
    }
   ],
   "source": [
    "x = [1,2,3,4,5]\n",
    "x2 = []\n",
    "for i in x:\n",
    "    s = i**2\n",
    "    x2.append(s)\n",
    "print(x)\n",
    "print(x2)"
   ]
  },
  {
   "cell_type": "code",
   "execution_count": 3,
   "metadata": {},
   "outputs": [
    {
     "name": "stdout",
     "output_type": "stream",
     "text": [
      "['bruce', 'peter', 'clark']\n"
     ]
    }
   ],
   "source": [
    "names ={'peter parker','bruce wayne','clark kent'}\n",
    "fnames = []\n",
    "for nm in names:\n",
    "    fnames.append(nm.split()[0])\n",
    "print(fnames)"
   ]
  },
  {
   "cell_type": "markdown",
   "metadata": {},
   "source": [
    "WAP having a list of 10 numbers, make a new list check even numbers in the list and fill the new list with even numbers"
   ]
  },
  {
   "cell_type": "code",
   "execution_count": 4,
   "metadata": {},
   "outputs": [
    {
     "name": "stdout",
     "output_type": "stream",
     "text": [
      "[2, 4, 6, 8, 10]\n"
     ]
    }
   ],
   "source": [
    "x = [1,2,3,4,5,6,7,8,9,10]\n",
    "x2 = []\n",
    "for i in x:\n",
    "    if i%2 == 0:\n",
    "        x2.append(i)\n",
    "print(x2)"
   ]
  },
  {
   "cell_type": "markdown",
   "metadata": {},
   "source": [
    "newlist = [expression for item in iterable if condition == true]"
   ]
  },
  {
   "cell_type": "code",
   "execution_count": 5,
   "metadata": {},
   "outputs": [
    {
     "name": "stdout",
     "output_type": "stream",
     "text": [
      "[1, 4, 9, 16, 25, 36, 49, 64, 81, 100]\n"
     ]
    }
   ],
   "source": [
    "x2 = [i**2 for i in x]\n",
    "print(x2)"
   ]
  },
  {
   "cell_type": "code",
   "execution_count": 6,
   "metadata": {},
   "outputs": [
    {
     "name": "stdout",
     "output_type": "stream",
     "text": [
      "['wayne', 'parker', 'kent']\n"
     ]
    }
   ],
   "source": [
    "lnames = [nm.split()[-1] for nm in names]\n",
    "print(lnames)"
   ]
  },
  {
   "cell_type": "code",
   "execution_count": 9,
   "metadata": {},
   "outputs": [
    {
     "name": "stdout",
     "output_type": "stream",
     "text": [
      "[2, 4, 6, 8, 10, 12]\n"
     ]
    }
   ],
   "source": [
    "x = [1,2,3,4,5,6,8,9,10,12]\n",
    "xevens = [i for i in x if i%2 == 0]\n",
    "print(xevens)"
   ]
  },
  {
   "cell_type": "code",
   "execution_count": 2,
   "metadata": {},
   "outputs": [
    {
     "name": "stdout",
     "output_type": "stream",
     "text": [
      "[1, 27, 125, 1, 27, 125, 1, 27, 27, 125, 125, 343, 27, 27, 343, 27, 1, 27, 125]\n"
     ]
    }
   ],
   "source": [
    "y = [1,2,3,4,5,1,2,3,5,6,1,2,2,3,3,5,5,6,7,3,3,6,6,7,3,2,1,3,5]\n",
    "#take all odd number -> get there cube -> put it in a list\n",
    "odd_number = [i**3 for i in y if i%2 != 0]\n",
    "print(odd_number)"
   ]
  }
 ],
 "metadata": {
  "kernelspec": {
   "display_name": "base",
   "language": "python",
   "name": "python3"
  },
  "language_info": {
   "codemirror_mode": {
    "name": "ipython",
    "version": 3
   },
   "file_extension": ".py",
   "mimetype": "text/x-python",
   "name": "python",
   "nbconvert_exporter": "python",
   "pygments_lexer": "ipython3",
   "version": "3.10.10"
  },
  "orig_nbformat": 4
 },
 "nbformat": 4,
 "nbformat_minor": 2
}
