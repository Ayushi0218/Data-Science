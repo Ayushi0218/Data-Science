{
 "cells": [
  {
   "cell_type": "markdown",
   "metadata": {},
   "source": [
    "syntax\n",
    "\n",
    "def fun_name([parameters]):\n",
    "    statement 1\n",
    "    statement 2 \n",
    "    ...\n",
    "    statement n\n",
    "    [return value]"
   ]
  },
  {
   "cell_type": "markdown",
   "metadata": {},
   "source": [
    "Type os user defined functions\n",
    "1. Non-parameterized non returning function\n",
    "2. value returning function\n",
    "3. parameterized function\n",
    "    - positional required arguments\n",
    "    - named arguments\n",
    "    - default arguments\n",
    "    - variable arguments\n",
    "4. Parameterized and value returning function\n",
    "5. Lambda functions"
   ]
  },
  {
   "cell_type": "code",
   "execution_count": 45,
   "metadata": {},
   "outputs": [],
   "source": [
    "from random import random"
   ]
  },
  {
   "cell_type": "code",
   "execution_count": 46,
   "metadata": {},
   "outputs": [
    {
     "data": {
      "text/plain": [
       "0.7674155274086746"
      ]
     },
     "execution_count": 46,
     "metadata": {},
     "output_type": "execute_result"
    }
   ],
   "source": [
    "random()"
   ]
  },
  {
   "cell_type": "code",
   "execution_count": 47,
   "metadata": {},
   "outputs": [],
   "source": [
    "def inspireMe():\n",
    "    from random import choice\n",
    "    q = [\n",
    "        'The best way to predict the future is to invent it.',\n",
    "        'The most important step is always the next step',\n",
    "        'Hardwork beats talent',\n",
    "        'Earlt to bed'\n",
    "    ]\n",
    "    return choice(q)"
   ]
  },
  {
   "cell_type": "code",
   "execution_count": 48,
   "metadata": {},
   "outputs": [
    {
     "data": {
      "text/plain": [
       "'The most important step is always the next step'"
      ]
     },
     "execution_count": 48,
     "metadata": {},
     "output_type": "execute_result"
    }
   ],
   "source": [
    "inspireMe()"
   ]
  },
  {
   "cell_type": "code",
   "execution_count": 49,
   "metadata": {},
   "outputs": [
    {
     "name": "stdout",
     "output_type": "stream",
     "text": [
      "4\n",
      "5\n",
      "5\n"
     ]
    }
   ],
   "source": [
    "def dicey():\n",
    "    from random import randint\n",
    "    return randint(1,6)\n",
    "\n",
    "print(dicey())\n",
    "print(dicey())\n",
    "print(dicey())"
   ]
  },
  {
   "cell_type": "code",
   "execution_count": 50,
   "metadata": {},
   "outputs": [
    {
     "name": "stdout",
     "output_type": "stream",
     "text": [
      "6\n"
     ]
    }
   ],
   "source": [
    "roll = dicey()\n",
    "print(roll)"
   ]
  },
  {
   "cell_type": "code",
   "execution_count": 51,
   "metadata": {},
   "outputs": [
    {
     "data": {
      "text/plain": [
       "18"
      ]
     },
     "execution_count": 51,
     "metadata": {},
     "output_type": "execute_result"
    }
   ],
   "source": [
    "dicey() + dicey()*5"
   ]
  },
  {
   "cell_type": "code",
   "execution_count": 62,
   "metadata": {},
   "outputs": [],
   "source": [
    "def prime_number(a):\n",
    "    c = 0\n",
    "    for i in range(2,a):\n",
    "        if a%i == 0:\n",
    "            return('The number is not prime number')\n",
    "    else:\n",
    "        return('The number is a prime number')\n"
   ]
  },
  {
   "cell_type": "code",
   "execution_count": 63,
   "metadata": {},
   "outputs": [
    {
     "name": "stdout",
     "output_type": "stream",
     "text": [
      "The number is a prime number\n"
     ]
    }
   ],
   "source": [
    "num = int(input('Enter a number'))\n",
    "print(prime_number(num))\n"
   ]
  },
  {
   "cell_type": "code",
   "execution_count": 54,
   "metadata": {},
   "outputs": [
    {
     "name": "stdout",
     "output_type": "stream",
     "text": [
      "The number is a prime number\n"
     ]
    }
   ],
   "source": [
    "prime_number(13)"
   ]
  },
  {
   "cell_type": "code",
   "execution_count": 65,
   "metadata": {},
   "outputs": [],
   "source": [
    "def si(p,r,t):\n",
    "    ans = p*r*t/100\n",
    "    print(\"principle:\",p)\n",
    "    print(\"rate:\",r)\n",
    "    print(\"time:\",t)\n",
    "    print('Simple interest',ans)"
   ]
  },
  {
   "cell_type": "code",
   "execution_count": 66,
   "metadata": {},
   "outputs": [
    {
     "name": "stdout",
     "output_type": "stream",
     "text": [
      "principle: 120000\n",
      "rate: 5\n",
      "time: 10\n",
      "Simple interest 60000.0\n"
     ]
    }
   ],
   "source": [
    "si(120000,5,10)"
   ]
  },
  {
   "cell_type": "markdown",
   "metadata": {},
   "source": [
    "WAF to remove all the punctuation from the string provided by the user\n",
    "\n",
    "hint: from string import punctuation"
   ]
  },
  {
   "cell_type": "code",
   "execution_count": 70,
   "metadata": {},
   "outputs": [
    {
     "data": {
      "text/plain": [
       "'Hiw5'"
      ]
     },
     "execution_count": 70,
     "metadata": {},
     "output_type": "execute_result"
    }
   ],
   "source": [
    "from string import punctuation\n",
    "def clean_punc(data):\n",
    "    for i in punctuation:\n",
    "        data = data.replace(i,'')\n",
    "    return data\n",
    "data = '#@H*(*(i^$%^$(:w@#$5{#$$$${}$'\n",
    "clean_punc(data)"
   ]
  }
 ],
 "metadata": {
  "kernelspec": {
   "display_name": "base",
   "language": "python",
   "name": "python3"
  },
  "language_info": {
   "codemirror_mode": {
    "name": "ipython",
    "version": 3
   },
   "file_extension": ".py",
   "mimetype": "text/x-python",
   "name": "python",
   "nbconvert_exporter": "python",
   "pygments_lexer": "ipython3",
   "version": "3.10.10"
  },
  "orig_nbformat": 4
 },
 "nbformat": 4,
 "nbformat_minor": 2
}
